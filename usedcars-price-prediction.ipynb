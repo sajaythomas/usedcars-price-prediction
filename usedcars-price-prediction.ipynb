{
 "cells": [
  {
   "cell_type": "markdown",
   "id": "ae45182f",
   "metadata": {},
   "source": [
    "## WQD7003 Data Analytics - Group Assignment\n",
    "\n",
    "### Title : Used Car Price Prediction\n",
    "\n",
    "#### GROUP 9\n",
    "\n",
    "S2117893 ----- TAY MIN ZHEN\n",
    "\n",
    "S2023355 ----- CHEW WAY YAN         \n",
    "\n",
    "17193835 ----- ZHAO ZIKUN\n",
    "\n",
    "S2102673 ----- SAJAY THOMAS SAMUEL\n",
    "\n",
    "S2127514 ----- ABY AZID ABU BAKAR"
   ]
  },
  {
   "cell_type": "markdown",
   "id": "9b885614",
   "metadata": {},
   "source": [
    "## 1.0 Introduction\n",
    "## 1.1 Overview\n",
    "\n",
    "A used car or sometimes referred to as a secondhand car is a vehicle that is owned by one or more owners. According to Mordor Intelligence (2021), the used automobile market is divided into categories based on the kind of vehicle, vendor type and geography. In 2020, the used automobile industry was worth USD 250 billion, and by 2026, it is estimated to be worth USD 400 billion. The COVID-19 outbreak in 2020 and the subsequent lockdown have inflicted the used car market in the first half of 2020 however, the used car market recovered with huge growth in the latter part of the year.\n",
    "\n",
    "The used car market is regarded as one of the most important industries in the manufacturing sector. Despite the COVID-19 pandemic and series of movement control orders (MCO), the used car market is seeing rapid growth and has even surprised the used car dealers themselves (Tan D, 2020). Factor such fear of contracting COVID-19 virus from using public transportation has prompted people to purchase a used car which indirectly contributes to the growth of the used car market. \n"
   ]
  },
  {
   "cell_type": "markdown",
   "id": "6de38c32",
   "metadata": {},
   "source": [
    "## 1.2 Problem Statement\n",
    "\n",
    "Predicting car resale value is still a mystery to most people. As cited by Sameerchand Pudaruth (2014), predicting car resale value is not a simple task. It is common known that the value of a used automobile is determined by a variety of factors including its popularity, maintenance costs, vehicle condition, mileage, model and year. The most essential criteria according to Sameerchand Pudaruth (2014) are the car's age, model and mileage.\n",
    "\n",
    "People who intend to sell a used car are unsure of the value of their car because in most cases, the used car price is determined by used car dealers hence the prices of used cars are inconsistent. \n",
    "\n",
    "On the other hand, people who plan to buy a used car will have doubts whether the price of the used car advertised in the market is overpriced and because of this uncertainty, people will also doubt the resale value of a new car if they decided to purchase one in the future which can inadvertently affect the market growth of brand new car. \n"
   ]
  },
  {
   "cell_type": "markdown",
   "id": "112df6e2",
   "metadata": {},
   "source": [
    "## 1.3 Motivation of Project\n",
    "\n",
    "Owning a brand new car is not a privilege that everyone has. It is crucial that people looking for a used car in the market or planning to sell one understand the factors that determined the resale value to minimize the risk of being manipulated into purchasing an overpriced used car or selling the car lower than the actual value. \n"
   ]
  },
  {
   "cell_type": "markdown",
   "id": "6897f1ed",
   "metadata": {},
   "source": [
    "## 1.4 Related Work that Inspired\n",
    "\n",
    "From the articles that we have studied, it shows that different researchers are focusing on certain models like linear regression, random forest and XGBoost to predict the used car price (Arefin, 2021; Gajera et al., 2021; Gegic, et al., 2019; Lessmann & Stefan, 2017; Sun et al., 2017). This leads to the situation where the second-hand car prices are not standardized. Values of a similar car might be differed significantly from different car dealer or website. It might be confusing for the potential buyers to find out which kind of used car best fit their budget or vice versa for those who interested to sell their cars in satisfied prices. Hence, we wish to figure out among these models, which is the best model to be apply. \n"
   ]
  },
  {
   "cell_type": "markdown",
   "id": "e8405507",
   "metadata": {},
   "source": [
    "## 1.5 Research Questions\n",
    "\n",
    "There are three (3) main research questions with respect to this project.\n",
    "1.\tHow to analyze the used cars’ price trends?\n",
    "2.\tHow to forecast the price trend of used automobiles in the future?\n",
    "3.\tHow to identify the best prediction model to analyze the market trends of used cars?"
   ]
  },
  {
   "cell_type": "markdown",
   "id": "3b64eba5",
   "metadata": {},
   "source": [
    "## 1.6 Research Objectives\n",
    "\n",
    "The main objective of the project is to provide inputs to educate and improve the attitude of society on understanding the factors that contribute to a used car's resale value. Specifically, the study aims to:\n",
    "*\tTo identify factors that have an influence determining the used car price to use as a reference point between buyer and seller. \n",
    "*   To analyze the used cars price trends.\n",
    "*\tTo identify the best prediction model to analyze the market trends of used cars price.\n"
   ]
  },
  {
   "cell_type": "markdown",
   "id": "273f06d4",
   "metadata": {},
   "source": [
    "## 2.0 Literature Review\n",
    "\n",
    "The table below shows the used car price prediction in the past studies which covers data features used, sample size, best model as well as the model performance.\n",
    "\n",
    "<table>\n",
    "  <thead>\n",
    "    <tr>\n",
    "      <th>No</th>\n",
    "      <th>Source</th>\n",
    "      <th>Title</th>\n",
    "      <th>Data Features Used</th>\n",
    "      <th>Sample Size</th>\n",
    "      <th>Best Model</th>\n",
    "      <th>Performance</th>\n",
    "      <th>Remark</th>\n",
    "    </tr>\n",
    "  </thead>\n",
    "  <tbody>\n",
    "    <tr>\n",
    "      <td>1</td>\n",
    "      <td>Karakoç, et al. (2020)</td>\n",
    "      <td>Car price prediction using an artificial neural network</td>\n",
    "      <td>brand, year, model, series, color, fuel, gear, motor power, body model, condition, engine, traction, kilometer, warranty, trade, damage, displacement, plate, origin</td>\n",
    "      <td>1,067</td>\n",
    "      <td>Artificial Neural Network</td>\n",
    "      <td>MSE:0.0019</td>\n",
    "      <td>2 layers - (30,25)</td>\n",
    "    </tr>\n",
    "    <tr>\n",
    "      <td>2</td>\n",
    "      <td>Gajera, et al. (2021)</td>\n",
    "      <td>Old Car Price Prediction with Machine Learning</td>\n",
    "      <td>mileage, year, fuel, model, fiscal power, brand and gear type </td>\n",
    "      <td>92,386</td>\n",
    "      <td>Random Forest Regressor</td>\n",
    "      <td>Accuracy:93.11%; RMSE:3702.34</td>\n",
    "      <td>-</td>\n",
    "    </tr>\n",
    "    <tr>\n",
    "      <td>3</td>\n",
    "      <td>Arefin (2021)</td>\n",
    "      <td>Second Hand Price Prediction for Tesla Vehicles</td>\n",
    "      <td>Model, Year, Battery, Price, Mileage</td>\n",
    "      <td>1,600</td>\n",
    "      <td>Boosted Decision Tree Regression</td>\n",
    "      <td>RMSE:4969.53</td>\n",
    "      <td>75%-25% train test</td>\n",
    "    </tr>\n",
    "    <tr>\n",
    "      <td>4</td>\n",
    "      <td>Sun, et al. (2017)</td>\n",
    "      <td>Price Evaluation Model in Second-hand Car System based on BP Neural Network Theory</td>\n",
    "      <td>condition, year, mileage recorder, wheelbase, area, ownership rights, brand positioning, model body, type,  manufacturer, number of doors, no. of seats, transmission, inhale, number of gears, brand nationality, drive, displacement, fuel</td>\n",
    "      <td>100,000</td>\n",
    "      <td>Random Forest</td>\n",
    "      <td>Accuracy:95.06%; RMSE: 16648</td>\n",
    "      <td>-</td>\n",
    "    </tr>\n",
    "    <tr>\n",
    "      <td>5</td>\n",
    "      <td>Gegic, et al. (2019)</td>\n",
    "      <td>Car Price Prediction using Machine Learning Techniques</td>\n",
    "      <td>asr, esp, abs, price, label, body model, condition, era, miles, kilowatts hour,type of gearbox, farbe, number of doors, fuel, leder seats, drive, navigation, digital air conditioning, air conditioning (manual), aluminum rims, rear parking sensors, xenon arc lamp, remote unit, number of seat, panorama glass roof, cruise control system </td>\n",
    "      <td>1,105</td>\n",
    "      <td>Support Vector Machine + Artificial Neural Network</td>\n",
    "      <td>Accuracy:87.38%</td>\n",
    "      <td>Binning - Price convert from numerical to cheap, moderate & expensive</td>\n",
    "    </tr>\n",
    "    <tr>\n",
    "      <td>6</td>\n",
    "      <td>Devi & Deepa (2021)</td>\n",
    "      <td>Predicting The Sales of Cars Using Random Forest Algorithm</td>\n",
    "      <td>year, state, area, mileage, property,fuel, business firm, brand positioning, brand personality, year of manufacture,  drive type, type of vehicle, number of doors, number of seats, wheelbase, displacement, gearbox type, number of gears,</td>\n",
    "      <td>-Not mentioned-</td>\n",
    "      <td>Random Forest</td>\n",
    "      <td>-Not mentioned-</td>\n",
    "      <td>Random Forest is better as compare with Linear Regression</td>\n",
    "    </tr>\n",
    "    <tr>\n",
    "      <td>7</td>\n",
    "      <td>Gokce (2020)</td>\n",
    "      <td>Predicting Used Car Prices with Machine Learning Techniques</td>\n",
    "      <td>year, mileage, model, motion, manufacture, fuel, pistons, variety, paint color, quality, gearbox, size, title status</td>\n",
    "      <td>550,313</td>\n",
    "      <td>Random Forest</td>\n",
    "      <td>RMSE: 3960.11</td>\n",
    "      <td>80%-20% train test</td>\n",
    "    </tr>\n",
    "    <tr>\n",
    "      <td>8</td>\n",
    "      <td>Chen, et al. (2017)</td>\n",
    "      <td>Comparative Analysis of Used Car Price Evaluation Models</td>\n",
    "      <td>year , fuel, maintain, area, business firm, property, state,  year, type, drive, positioning, wheelbase, number of doors, inhale, number of seats, gear box, no. of gear, odometer,  displacement</td>\n",
    "      <td>102,959</td>\n",
    "      <td>Random Forest</td>\n",
    "      <td>NMSE: 0.052</td>\n",
    "      <td>-</td>\n",
    "    </tr>\n",
    "  </tbody>\n",
    "</table>"
   ]
  },
  {
   "cell_type": "markdown",
   "id": "62d562c9",
   "metadata": {},
   "source": [
    "## 3.0 Methodology\n",
    "## 3.1 Data Description\n",
    "\n",
    "This project's dataset came from kaggle (https://www.kaggle.com/austinreese/craigslist-carstrucks-data#craigslistVehicles.csv). Austin Reese scraped it from the craigslist website, where it was listed as one of the world's greatest collections of old autos for sale. There are 426880 items in the database, each having 26 used car variables such as price, condition, manufacturer, model, and so on.\n"
   ]
  },
  {
   "cell_type": "code",
   "execution_count": 1,
   "id": "f0a37357",
   "metadata": {},
   "outputs": [],
   "source": [
    "#Import module and library \n",
    "%matplotlib inline\n",
    "import numpy as np\n",
    "import pandas as pd\n",
    "import seaborn as sns\n",
    "import matplotlib.pyplot as plt\n",
    "\n",
    "import subprocess as sp\n",
    "import sys,os,shutil,pickle,time\n",
    "from os.path import join\n",
    "plt.style.use('default')"
   ]
  },
  {
   "cell_type": "code",
   "execution_count": 2,
   "id": "22844132",
   "metadata": {},
   "outputs": [],
   "source": [
    "#Import data from Used cars dataset csv file\n",
    "usedcars = pd.read_csv('Used_cars_dataset.csv')"
   ]
  },
  {
   "cell_type": "code",
   "execution_count": 3,
   "id": "6cce0267",
   "metadata": {},
   "outputs": [
    {
     "data": {
      "text/html": [
       "<div>\n",
       "<style scoped>\n",
       "    .dataframe tbody tr th:only-of-type {\n",
       "        vertical-align: middle;\n",
       "    }\n",
       "\n",
       "    .dataframe tbody tr th {\n",
       "        vertical-align: top;\n",
       "    }\n",
       "\n",
       "    .dataframe thead th {\n",
       "        text-align: right;\n",
       "    }\n",
       "</style>\n",
       "<table border=\"1\" class=\"dataframe\">\n",
       "  <thead>\n",
       "    <tr style=\"text-align: right;\">\n",
       "      <th></th>\n",
       "      <th>CarID</th>\n",
       "      <th>URL_link</th>\n",
       "      <th>Region</th>\n",
       "      <th>RegionURL_link</th>\n",
       "      <th>SellingPrice</th>\n",
       "      <th>RegistrationYear</th>\n",
       "      <th>Manufacturer</th>\n",
       "      <th>Model</th>\n",
       "      <th>Condition</th>\n",
       "      <th>CylindersNumber</th>\n",
       "      <th>...</th>\n",
       "      <th>Size</th>\n",
       "      <th>CarType</th>\n",
       "      <th>PaintColor</th>\n",
       "      <th>ImageURL_link</th>\n",
       "      <th>Description</th>\n",
       "      <th>County</th>\n",
       "      <th>State</th>\n",
       "      <th>Latitude</th>\n",
       "      <th>Longitude</th>\n",
       "      <th>PostingDate</th>\n",
       "    </tr>\n",
       "  </thead>\n",
       "  <tbody>\n",
       "    <tr>\n",
       "      <th>0</th>\n",
       "      <td>7222695916</td>\n",
       "      <td>https://prescott.craigslist.org/cto/d/prescott...</td>\n",
       "      <td>prescott</td>\n",
       "      <td>https://prescott.craigslist.org</td>\n",
       "      <td>6000</td>\n",
       "      <td>NaN</td>\n",
       "      <td>NaN</td>\n",
       "      <td>NaN</td>\n",
       "      <td>NaN</td>\n",
       "      <td>NaN</td>\n",
       "      <td>...</td>\n",
       "      <td>NaN</td>\n",
       "      <td>NaN</td>\n",
       "      <td>NaN</td>\n",
       "      <td>NaN</td>\n",
       "      <td>NaN</td>\n",
       "      <td>NaN</td>\n",
       "      <td>az</td>\n",
       "      <td>NaN</td>\n",
       "      <td>NaN</td>\n",
       "      <td>NaN</td>\n",
       "    </tr>\n",
       "    <tr>\n",
       "      <th>1</th>\n",
       "      <td>7218891961</td>\n",
       "      <td>https://fayar.craigslist.org/ctd/d/bentonville...</td>\n",
       "      <td>fayetteville</td>\n",
       "      <td>https://fayar.craigslist.org</td>\n",
       "      <td>11900</td>\n",
       "      <td>NaN</td>\n",
       "      <td>NaN</td>\n",
       "      <td>NaN</td>\n",
       "      <td>NaN</td>\n",
       "      <td>NaN</td>\n",
       "      <td>...</td>\n",
       "      <td>NaN</td>\n",
       "      <td>NaN</td>\n",
       "      <td>NaN</td>\n",
       "      <td>NaN</td>\n",
       "      <td>NaN</td>\n",
       "      <td>NaN</td>\n",
       "      <td>ar</td>\n",
       "      <td>NaN</td>\n",
       "      <td>NaN</td>\n",
       "      <td>NaN</td>\n",
       "    </tr>\n",
       "    <tr>\n",
       "      <th>2</th>\n",
       "      <td>7221797935</td>\n",
       "      <td>https://keys.craigslist.org/cto/d/summerland-k...</td>\n",
       "      <td>florida keys</td>\n",
       "      <td>https://keys.craigslist.org</td>\n",
       "      <td>21000</td>\n",
       "      <td>NaN</td>\n",
       "      <td>NaN</td>\n",
       "      <td>NaN</td>\n",
       "      <td>NaN</td>\n",
       "      <td>NaN</td>\n",
       "      <td>...</td>\n",
       "      <td>NaN</td>\n",
       "      <td>NaN</td>\n",
       "      <td>NaN</td>\n",
       "      <td>NaN</td>\n",
       "      <td>NaN</td>\n",
       "      <td>NaN</td>\n",
       "      <td>fl</td>\n",
       "      <td>NaN</td>\n",
       "      <td>NaN</td>\n",
       "      <td>NaN</td>\n",
       "    </tr>\n",
       "    <tr>\n",
       "      <th>3</th>\n",
       "      <td>7222270760</td>\n",
       "      <td>https://worcester.craigslist.org/cto/d/west-br...</td>\n",
       "      <td>worcester / central MA</td>\n",
       "      <td>https://worcester.craigslist.org</td>\n",
       "      <td>1500</td>\n",
       "      <td>NaN</td>\n",
       "      <td>NaN</td>\n",
       "      <td>NaN</td>\n",
       "      <td>NaN</td>\n",
       "      <td>NaN</td>\n",
       "      <td>...</td>\n",
       "      <td>NaN</td>\n",
       "      <td>NaN</td>\n",
       "      <td>NaN</td>\n",
       "      <td>NaN</td>\n",
       "      <td>NaN</td>\n",
       "      <td>NaN</td>\n",
       "      <td>ma</td>\n",
       "      <td>NaN</td>\n",
       "      <td>NaN</td>\n",
       "      <td>NaN</td>\n",
       "    </tr>\n",
       "    <tr>\n",
       "      <th>4</th>\n",
       "      <td>7210384030</td>\n",
       "      <td>https://greensboro.craigslist.org/cto/d/trinit...</td>\n",
       "      <td>greensboro</td>\n",
       "      <td>https://greensboro.craigslist.org</td>\n",
       "      <td>4900</td>\n",
       "      <td>NaN</td>\n",
       "      <td>NaN</td>\n",
       "      <td>NaN</td>\n",
       "      <td>NaN</td>\n",
       "      <td>NaN</td>\n",
       "      <td>...</td>\n",
       "      <td>NaN</td>\n",
       "      <td>NaN</td>\n",
       "      <td>NaN</td>\n",
       "      <td>NaN</td>\n",
       "      <td>NaN</td>\n",
       "      <td>NaN</td>\n",
       "      <td>nc</td>\n",
       "      <td>NaN</td>\n",
       "      <td>NaN</td>\n",
       "      <td>NaN</td>\n",
       "    </tr>\n",
       "  </tbody>\n",
       "</table>\n",
       "<p>5 rows × 26 columns</p>\n",
       "</div>"
      ],
      "text/plain": [
       "        CarID                                           URL_link  \\\n",
       "0  7222695916  https://prescott.craigslist.org/cto/d/prescott...   \n",
       "1  7218891961  https://fayar.craigslist.org/ctd/d/bentonville...   \n",
       "2  7221797935  https://keys.craigslist.org/cto/d/summerland-k...   \n",
       "3  7222270760  https://worcester.craigslist.org/cto/d/west-br...   \n",
       "4  7210384030  https://greensboro.craigslist.org/cto/d/trinit...   \n",
       "\n",
       "                   Region                     RegionURL_link  SellingPrice  \\\n",
       "0                prescott    https://prescott.craigslist.org          6000   \n",
       "1            fayetteville       https://fayar.craigslist.org         11900   \n",
       "2            florida keys        https://keys.craigslist.org         21000   \n",
       "3  worcester / central MA   https://worcester.craigslist.org          1500   \n",
       "4              greensboro  https://greensboro.craigslist.org          4900   \n",
       "\n",
       "   RegistrationYear Manufacturer Model Condition CylindersNumber  ... Size  \\\n",
       "0               NaN          NaN   NaN       NaN             NaN  ...  NaN   \n",
       "1               NaN          NaN   NaN       NaN             NaN  ...  NaN   \n",
       "2               NaN          NaN   NaN       NaN             NaN  ...  NaN   \n",
       "3               NaN          NaN   NaN       NaN             NaN  ...  NaN   \n",
       "4               NaN          NaN   NaN       NaN             NaN  ...  NaN   \n",
       "\n",
       "   CarType PaintColor ImageURL_link Description County State Latitude  \\\n",
       "0      NaN        NaN           NaN         NaN    NaN    az      NaN   \n",
       "1      NaN        NaN           NaN         NaN    NaN    ar      NaN   \n",
       "2      NaN        NaN           NaN         NaN    NaN    fl      NaN   \n",
       "3      NaN        NaN           NaN         NaN    NaN    ma      NaN   \n",
       "4      NaN        NaN           NaN         NaN    NaN    nc      NaN   \n",
       "\n",
       "  Longitude PostingDate  \n",
       "0       NaN         NaN  \n",
       "1       NaN         NaN  \n",
       "2       NaN         NaN  \n",
       "3       NaN         NaN  \n",
       "4       NaN         NaN  \n",
       "\n",
       "[5 rows x 26 columns]"
      ]
     },
     "execution_count": 3,
     "metadata": {},
     "output_type": "execute_result"
    }
   ],
   "source": [
    "#Explore the first 5 rows of dataset\n",
    "usedcars.head()"
   ]
  },
  {
   "cell_type": "code",
   "execution_count": 4,
   "id": "997c5115",
   "metadata": {},
   "outputs": [
    {
     "data": {
      "text/html": [
       "<div>\n",
       "<style scoped>\n",
       "    .dataframe tbody tr th:only-of-type {\n",
       "        vertical-align: middle;\n",
       "    }\n",
       "\n",
       "    .dataframe tbody tr th {\n",
       "        vertical-align: top;\n",
       "    }\n",
       "\n",
       "    .dataframe thead th {\n",
       "        text-align: right;\n",
       "    }\n",
       "</style>\n",
       "<table border=\"1\" class=\"dataframe\">\n",
       "  <thead>\n",
       "    <tr style=\"text-align: right;\">\n",
       "      <th></th>\n",
       "      <th>CarID</th>\n",
       "      <th>URL_link</th>\n",
       "      <th>Region</th>\n",
       "      <th>RegionURL_link</th>\n",
       "      <th>SellingPrice</th>\n",
       "      <th>RegistrationYear</th>\n",
       "      <th>Manufacturer</th>\n",
       "      <th>Model</th>\n",
       "      <th>Condition</th>\n",
       "      <th>CylindersNumber</th>\n",
       "      <th>...</th>\n",
       "      <th>Size</th>\n",
       "      <th>CarType</th>\n",
       "      <th>PaintColor</th>\n",
       "      <th>ImageURL_link</th>\n",
       "      <th>Description</th>\n",
       "      <th>County</th>\n",
       "      <th>State</th>\n",
       "      <th>Latitude</th>\n",
       "      <th>Longitude</th>\n",
       "      <th>PostingDate</th>\n",
       "    </tr>\n",
       "  </thead>\n",
       "  <tbody>\n",
       "    <tr>\n",
       "      <th>426875</th>\n",
       "      <td>7301591192</td>\n",
       "      <td>https://wyoming.craigslist.org/ctd/d/atlanta-2...</td>\n",
       "      <td>wyoming</td>\n",
       "      <td>https://wyoming.craigslist.org</td>\n",
       "      <td>23590</td>\n",
       "      <td>2019.0</td>\n",
       "      <td>nissan</td>\n",
       "      <td>maxima s sedan 4d</td>\n",
       "      <td>good</td>\n",
       "      <td>6 cylinders</td>\n",
       "      <td>...</td>\n",
       "      <td>NaN</td>\n",
       "      <td>sedan</td>\n",
       "      <td>NaN</td>\n",
       "      <td>https://images.craigslist.org/00o0o_iiraFnHg8q...</td>\n",
       "      <td>Carvana is the safer way to buy a car During t...</td>\n",
       "      <td>NaN</td>\n",
       "      <td>wy</td>\n",
       "      <td>33.786500</td>\n",
       "      <td>-84.445400</td>\n",
       "      <td>2021-04-04T03:21:31-0600</td>\n",
       "    </tr>\n",
       "    <tr>\n",
       "      <th>426876</th>\n",
       "      <td>7301591187</td>\n",
       "      <td>https://wyoming.craigslist.org/ctd/d/atlanta-2...</td>\n",
       "      <td>wyoming</td>\n",
       "      <td>https://wyoming.craigslist.org</td>\n",
       "      <td>30590</td>\n",
       "      <td>2020.0</td>\n",
       "      <td>volvo</td>\n",
       "      <td>s60 t5 momentum sedan 4d</td>\n",
       "      <td>good</td>\n",
       "      <td>NaN</td>\n",
       "      <td>...</td>\n",
       "      <td>NaN</td>\n",
       "      <td>sedan</td>\n",
       "      <td>red</td>\n",
       "      <td>https://images.craigslist.org/00x0x_15sbgnxCIS...</td>\n",
       "      <td>Carvana is the safer way to buy a car During t...</td>\n",
       "      <td>NaN</td>\n",
       "      <td>wy</td>\n",
       "      <td>33.786500</td>\n",
       "      <td>-84.445400</td>\n",
       "      <td>2021-04-04T03:21:29-0600</td>\n",
       "    </tr>\n",
       "    <tr>\n",
       "      <th>426877</th>\n",
       "      <td>7301591147</td>\n",
       "      <td>https://wyoming.craigslist.org/ctd/d/atlanta-2...</td>\n",
       "      <td>wyoming</td>\n",
       "      <td>https://wyoming.craigslist.org</td>\n",
       "      <td>34990</td>\n",
       "      <td>2020.0</td>\n",
       "      <td>cadillac</td>\n",
       "      <td>xt4 sport suv 4d</td>\n",
       "      <td>good</td>\n",
       "      <td>NaN</td>\n",
       "      <td>...</td>\n",
       "      <td>NaN</td>\n",
       "      <td>hatchback</td>\n",
       "      <td>white</td>\n",
       "      <td>https://images.craigslist.org/00L0L_farM7bxnxR...</td>\n",
       "      <td>Carvana is the safer way to buy a car During t...</td>\n",
       "      <td>NaN</td>\n",
       "      <td>wy</td>\n",
       "      <td>33.779214</td>\n",
       "      <td>-84.411811</td>\n",
       "      <td>2021-04-04T03:21:17-0600</td>\n",
       "    </tr>\n",
       "    <tr>\n",
       "      <th>426878</th>\n",
       "      <td>7301591140</td>\n",
       "      <td>https://wyoming.craigslist.org/ctd/d/atlanta-2...</td>\n",
       "      <td>wyoming</td>\n",
       "      <td>https://wyoming.craigslist.org</td>\n",
       "      <td>28990</td>\n",
       "      <td>2018.0</td>\n",
       "      <td>lexus</td>\n",
       "      <td>es 350 sedan 4d</td>\n",
       "      <td>good</td>\n",
       "      <td>6 cylinders</td>\n",
       "      <td>...</td>\n",
       "      <td>NaN</td>\n",
       "      <td>sedan</td>\n",
       "      <td>silver</td>\n",
       "      <td>https://images.craigslist.org/00z0z_bKnIVGLkDT...</td>\n",
       "      <td>Carvana is the safer way to buy a car During t...</td>\n",
       "      <td>NaN</td>\n",
       "      <td>wy</td>\n",
       "      <td>33.786500</td>\n",
       "      <td>-84.445400</td>\n",
       "      <td>2021-04-04T03:21:11-0600</td>\n",
       "    </tr>\n",
       "    <tr>\n",
       "      <th>426879</th>\n",
       "      <td>7301591129</td>\n",
       "      <td>https://wyoming.craigslist.org/ctd/d/atlanta-2...</td>\n",
       "      <td>wyoming</td>\n",
       "      <td>https://wyoming.craigslist.org</td>\n",
       "      <td>30590</td>\n",
       "      <td>2019.0</td>\n",
       "      <td>bmw</td>\n",
       "      <td>4 series 430i gran coupe</td>\n",
       "      <td>good</td>\n",
       "      <td>NaN</td>\n",
       "      <td>...</td>\n",
       "      <td>NaN</td>\n",
       "      <td>coupe</td>\n",
       "      <td>NaN</td>\n",
       "      <td>https://images.craigslist.org/00Y0Y_lEUocjyRxa...</td>\n",
       "      <td>Carvana is the safer way to buy a car During t...</td>\n",
       "      <td>NaN</td>\n",
       "      <td>wy</td>\n",
       "      <td>33.779214</td>\n",
       "      <td>-84.411811</td>\n",
       "      <td>2021-04-04T03:21:07-0600</td>\n",
       "    </tr>\n",
       "  </tbody>\n",
       "</table>\n",
       "<p>5 rows × 26 columns</p>\n",
       "</div>"
      ],
      "text/plain": [
       "             CarID                                           URL_link  \\\n",
       "426875  7301591192  https://wyoming.craigslist.org/ctd/d/atlanta-2...   \n",
       "426876  7301591187  https://wyoming.craigslist.org/ctd/d/atlanta-2...   \n",
       "426877  7301591147  https://wyoming.craigslist.org/ctd/d/atlanta-2...   \n",
       "426878  7301591140  https://wyoming.craigslist.org/ctd/d/atlanta-2...   \n",
       "426879  7301591129  https://wyoming.craigslist.org/ctd/d/atlanta-2...   \n",
       "\n",
       "         Region                  RegionURL_link  SellingPrice  \\\n",
       "426875  wyoming  https://wyoming.craigslist.org         23590   \n",
       "426876  wyoming  https://wyoming.craigslist.org         30590   \n",
       "426877  wyoming  https://wyoming.craigslist.org         34990   \n",
       "426878  wyoming  https://wyoming.craigslist.org         28990   \n",
       "426879  wyoming  https://wyoming.craigslist.org         30590   \n",
       "\n",
       "        RegistrationYear Manufacturer                     Model Condition  \\\n",
       "426875            2019.0       nissan         maxima s sedan 4d      good   \n",
       "426876            2020.0        volvo  s60 t5 momentum sedan 4d      good   \n",
       "426877            2020.0     cadillac          xt4 sport suv 4d      good   \n",
       "426878            2018.0        lexus           es 350 sedan 4d      good   \n",
       "426879            2019.0          bmw  4 series 430i gran coupe      good   \n",
       "\n",
       "       CylindersNumber  ... Size    CarType PaintColor  \\\n",
       "426875     6 cylinders  ...  NaN      sedan        NaN   \n",
       "426876             NaN  ...  NaN      sedan        red   \n",
       "426877             NaN  ...  NaN  hatchback      white   \n",
       "426878     6 cylinders  ...  NaN      sedan     silver   \n",
       "426879             NaN  ...  NaN      coupe        NaN   \n",
       "\n",
       "                                            ImageURL_link  \\\n",
       "426875  https://images.craigslist.org/00o0o_iiraFnHg8q...   \n",
       "426876  https://images.craigslist.org/00x0x_15sbgnxCIS...   \n",
       "426877  https://images.craigslist.org/00L0L_farM7bxnxR...   \n",
       "426878  https://images.craigslist.org/00z0z_bKnIVGLkDT...   \n",
       "426879  https://images.craigslist.org/00Y0Y_lEUocjyRxa...   \n",
       "\n",
       "                                              Description County State  \\\n",
       "426875  Carvana is the safer way to buy a car During t...    NaN    wy   \n",
       "426876  Carvana is the safer way to buy a car During t...    NaN    wy   \n",
       "426877  Carvana is the safer way to buy a car During t...    NaN    wy   \n",
       "426878  Carvana is the safer way to buy a car During t...    NaN    wy   \n",
       "426879  Carvana is the safer way to buy a car During t...    NaN    wy   \n",
       "\n",
       "         Latitude  Longitude               PostingDate  \n",
       "426875  33.786500 -84.445400  2021-04-04T03:21:31-0600  \n",
       "426876  33.786500 -84.445400  2021-04-04T03:21:29-0600  \n",
       "426877  33.779214 -84.411811  2021-04-04T03:21:17-0600  \n",
       "426878  33.786500 -84.445400  2021-04-04T03:21:11-0600  \n",
       "426879  33.779214 -84.411811  2021-04-04T03:21:07-0600  \n",
       "\n",
       "[5 rows x 26 columns]"
      ]
     },
     "execution_count": 4,
     "metadata": {},
     "output_type": "execute_result"
    }
   ],
   "source": [
    "#Explore the last 5 rows of dataset\n",
    "usedcars.tail()"
   ]
  },
  {
   "cell_type": "code",
   "execution_count": 5,
   "id": "10aedb84",
   "metadata": {},
   "outputs": [
    {
     "data": {
      "text/plain": [
       "(426880, 26)"
      ]
     },
     "execution_count": 5,
     "metadata": {},
     "output_type": "execute_result"
    }
   ],
   "source": [
    "#Explore the total number of rows and columns\n",
    "usedcars.shape"
   ]
  },
  {
   "cell_type": "code",
   "execution_count": 6,
   "id": "e1d9f76d",
   "metadata": {},
   "outputs": [
    {
     "name": "stdout",
     "output_type": "stream",
     "text": [
      "<class 'pandas.core.frame.DataFrame'>\n",
      "RangeIndex: 426880 entries, 0 to 426879\n",
      "Data columns (total 26 columns):\n",
      " #   Column                       Non-Null Count   Dtype  \n",
      "---  ------                       --------------   -----  \n",
      " 0   CarID                        426880 non-null  int64  \n",
      " 1   URL_link                     426880 non-null  object \n",
      " 2   Region                       426880 non-null  object \n",
      " 3   RegionURL_link               426880 non-null  object \n",
      " 4   SellingPrice                 426880 non-null  int64  \n",
      " 5   RegistrationYear             425675 non-null  float64\n",
      " 6   Manufacturer                 409234 non-null  object \n",
      " 7   Model                        421603 non-null  object \n",
      " 8   Condition                    252776 non-null  object \n",
      " 9   CylindersNumber              249202 non-null  object \n",
      " 10  FuelType                     423867 non-null  object \n",
      " 11  OdometerMileage              422480 non-null  float64\n",
      " 12  TitleStatus                  418638 non-null  object \n",
      " 13  TransmissionType             424324 non-null  object \n",
      " 14  VehicleIdentificationNumber  265838 non-null  object \n",
      " 15  DriveType                    296313 non-null  object \n",
      " 16  Size                         120519 non-null  object \n",
      " 17  CarType                      334022 non-null  object \n",
      " 18  PaintColor                   296677 non-null  object \n",
      " 19  ImageURL_link                426812 non-null  object \n",
      " 20  Description                  426810 non-null  object \n",
      " 21  County                       0 non-null       float64\n",
      " 22  State                        426880 non-null  object \n",
      " 23  Latitude                     420331 non-null  float64\n",
      " 24  Longitude                    420331 non-null  float64\n",
      " 25  PostingDate                  426812 non-null  object \n",
      "dtypes: float64(5), int64(2), object(19)\n",
      "memory usage: 84.7+ MB\n"
     ]
    }
   ],
   "source": [
    "#Obtain the detail information from used car dataset\n",
    "usedcars.info()"
   ]
  },
  {
   "cell_type": "markdown",
   "id": "c9d840e4",
   "metadata": {},
   "source": [
    "## 3.2 Data Cleaning"
   ]
  },
  {
   "cell_type": "code",
   "execution_count": 7,
   "id": "fecb4b1d",
   "metadata": {},
   "outputs": [],
   "source": [
    "#Drop unnecessary columns (features)\n",
    "usedcars= usedcars.drop(columns=['CarID','URL_link','Region','RegionURL_link','VehicleIdentificationNumber', 'ImageURL_link',\n",
    "                                  'Description', 'County','State', 'Latitude', 'Longitude', 'PostingDate'], axis=1)"
   ]
  },
  {
   "cell_type": "code",
   "execution_count": 8,
   "id": "78a0b0f0",
   "metadata": {},
   "outputs": [
    {
     "data": {
      "text/plain": [
       "['SellingPrice',\n",
       " 'RegistrationYear',\n",
       " 'Manufacturer',\n",
       " 'Model',\n",
       " 'Condition',\n",
       " 'CylindersNumber',\n",
       " 'FuelType',\n",
       " 'OdometerMileage',\n",
       " 'TitleStatus',\n",
       " 'TransmissionType',\n",
       " 'DriveType',\n",
       " 'Size',\n",
       " 'CarType',\n",
       " 'PaintColor']"
      ]
     },
     "execution_count": 8,
     "metadata": {},
     "output_type": "execute_result"
    }
   ],
   "source": [
    "#Check the remaining features\n",
    "list(usedcars)"
   ]
  },
  {
   "cell_type": "markdown",
   "id": "038ec205",
   "metadata": {},
   "source": [
    "There are 14 features left in the dataset."
   ]
  },
  {
   "cell_type": "code",
   "execution_count": 9,
   "id": "bbfdbdd7",
   "metadata": {},
   "outputs": [
    {
     "data": {
      "text/html": [
       "<div>\n",
       "<style scoped>\n",
       "    .dataframe tbody tr th:only-of-type {\n",
       "        vertical-align: middle;\n",
       "    }\n",
       "\n",
       "    .dataframe tbody tr th {\n",
       "        vertical-align: top;\n",
       "    }\n",
       "\n",
       "    .dataframe thead th {\n",
       "        text-align: right;\n",
       "    }\n",
       "</style>\n",
       "<table border=\"1\" class=\"dataframe\">\n",
       "  <thead>\n",
       "    <tr style=\"text-align: right;\">\n",
       "      <th></th>\n",
       "      <th>Null</th>\n",
       "      <th>Percentage</th>\n",
       "    </tr>\n",
       "  </thead>\n",
       "  <tbody>\n",
       "    <tr>\n",
       "      <th>Size</th>\n",
       "      <td>306361</td>\n",
       "      <td>71.767</td>\n",
       "    </tr>\n",
       "    <tr>\n",
       "      <th>CylindersNumber</th>\n",
       "      <td>177678</td>\n",
       "      <td>41.622</td>\n",
       "    </tr>\n",
       "    <tr>\n",
       "      <th>Condition</th>\n",
       "      <td>174104</td>\n",
       "      <td>40.785</td>\n",
       "    </tr>\n",
       "    <tr>\n",
       "      <th>DriveType</th>\n",
       "      <td>130567</td>\n",
       "      <td>30.586</td>\n",
       "    </tr>\n",
       "    <tr>\n",
       "      <th>PaintColor</th>\n",
       "      <td>130203</td>\n",
       "      <td>30.501</td>\n",
       "    </tr>\n",
       "    <tr>\n",
       "      <th>CarType</th>\n",
       "      <td>92858</td>\n",
       "      <td>21.753</td>\n",
       "    </tr>\n",
       "    <tr>\n",
       "      <th>Manufacturer</th>\n",
       "      <td>17646</td>\n",
       "      <td>4.134</td>\n",
       "    </tr>\n",
       "    <tr>\n",
       "      <th>TitleStatus</th>\n",
       "      <td>8242</td>\n",
       "      <td>1.931</td>\n",
       "    </tr>\n",
       "    <tr>\n",
       "      <th>Model</th>\n",
       "      <td>5277</td>\n",
       "      <td>1.236</td>\n",
       "    </tr>\n",
       "    <tr>\n",
       "      <th>OdometerMileage</th>\n",
       "      <td>4400</td>\n",
       "      <td>1.031</td>\n",
       "    </tr>\n",
       "    <tr>\n",
       "      <th>FuelType</th>\n",
       "      <td>3013</td>\n",
       "      <td>0.706</td>\n",
       "    </tr>\n",
       "    <tr>\n",
       "      <th>TransmissionType</th>\n",
       "      <td>2556</td>\n",
       "      <td>0.599</td>\n",
       "    </tr>\n",
       "    <tr>\n",
       "      <th>RegistrationYear</th>\n",
       "      <td>1205</td>\n",
       "      <td>0.282</td>\n",
       "    </tr>\n",
       "    <tr>\n",
       "      <th>SellingPrice</th>\n",
       "      <td>0</td>\n",
       "      <td>0.000</td>\n",
       "    </tr>\n",
       "  </tbody>\n",
       "</table>\n",
       "</div>"
      ],
      "text/plain": [
       "                    Null  Percentage\n",
       "Size              306361      71.767\n",
       "CylindersNumber   177678      41.622\n",
       "Condition         174104      40.785\n",
       "DriveType         130567      30.586\n",
       "PaintColor        130203      30.501\n",
       "CarType            92858      21.753\n",
       "Manufacturer       17646       4.134\n",
       "TitleStatus         8242       1.931\n",
       "Model               5277       1.236\n",
       "OdometerMileage     4400       1.031\n",
       "FuelType            3013       0.706\n",
       "TransmissionType    2556       0.599\n",
       "RegistrationYear    1205       0.282\n",
       "SellingPrice           0       0.000"
      ]
     },
     "execution_count": 9,
     "metadata": {},
     "output_type": "execute_result"
    }
   ],
   "source": [
    "#Determine the total number of missing values and its percentage in every variable\n",
    "NullValues=usedcars.isnull().sum()\n",
    "NullValues=pd.DataFrame(NullValues,columns=['Null'])\n",
    "j=1\n",
    "sum_total_entries=len(usedcars)\n",
    "NullValues['Percentage']=(NullValues['Null']/sum_total_entries)*100\n",
    "round(NullValues,3).sort_values('Percentage', ascending=False)"
   ]
  },
  {
   "cell_type": "markdown",
   "id": "57f91c83",
   "metadata": {},
   "source": [
    "#### Dealing with extreme values\n",
    "- Used car with price less than USD1,000 is considered as noice for the data. <br>\n",
    "- While car price more than USD100,000 only address small amount of buyers. <br>\n",
    "- These values are hence considered as the extreme values for the column 'SellingPrice' and should be eliminated."
   ]
  },
  {
   "cell_type": "code",
   "execution_count": 10,
   "id": "34dd4a1d",
   "metadata": {},
   "outputs": [
    {
     "data": {
      "text/plain": [
       "(32895, 14)"
      ]
     },
     "execution_count": 10,
     "metadata": {},
     "output_type": "execute_result"
    }
   ],
   "source": [
    "#Checking used cars data with prices $0, less than $1000 and more than $100,000\n",
    "usedcars[usedcars.SellingPrice == 0].shape "
   ]
  },
  {
   "cell_type": "code",
   "execution_count": 11,
   "id": "965742e9",
   "metadata": {},
   "outputs": [
    {
     "data": {
      "text/plain": [
       "(46315, 14)"
      ]
     },
     "execution_count": 11,
     "metadata": {},
     "output_type": "execute_result"
    }
   ],
   "source": [
    "usedcars[usedcars.SellingPrice < 1000].shape"
   ]
  },
  {
   "cell_type": "code",
   "execution_count": 12,
   "id": "065628b3",
   "metadata": {},
   "outputs": [
    {
     "data": {
      "text/plain": [
       "(655, 14)"
      ]
     },
     "execution_count": 12,
     "metadata": {},
     "output_type": "execute_result"
    }
   ],
   "source": [
    "usedcars[usedcars.SellingPrice > 100000].shape"
   ]
  },
  {
   "cell_type": "code",
   "execution_count": 13,
   "id": "1daba1cf",
   "metadata": {},
   "outputs": [
    {
     "data": {
      "text/plain": [
       "(378659, 14)"
      ]
     },
     "execution_count": 13,
     "metadata": {},
     "output_type": "execute_result"
    }
   ],
   "source": [
    "#Eliminate extreme values from column 'SellingPrice'\n",
    "usedcars = usedcars[(usedcars.SellingPrice < 100000) & (usedcars.SellingPrice> 1000)]\n",
    "usedcars.shape"
   ]
  },
  {
   "cell_type": "markdown",
   "id": "4bac6e83",
   "metadata": {},
   "source": [
    "- Odometers that higher than 300,000 and lower than 100 miles might affect the robustness of prediction.\n",
    "- Hence, it should be eliminated."
   ]
  },
  {
   "cell_type": "code",
   "execution_count": 14,
   "id": "222ca54f",
   "metadata": {},
   "outputs": [
    {
     "data": {
      "text/plain": [
       "(4207, 14)"
      ]
     },
     "execution_count": 14,
     "metadata": {},
     "output_type": "execute_result"
    }
   ],
   "source": [
    "#Checking number of entries with odometers lower than 100 miles\n",
    "usedcars[usedcars.OdometerMileage < 100].shape"
   ]
  },
  {
   "cell_type": "code",
   "execution_count": 15,
   "id": "a86d5dfc",
   "metadata": {},
   "outputs": [
    {
     "data": {
      "text/plain": [
       "(2583, 14)"
      ]
     },
     "execution_count": 15,
     "metadata": {},
     "output_type": "execute_result"
    }
   ],
   "source": [
    "#Checking number of entries with odometers higher than 300,000 miles\n",
    "usedcars[usedcars.OdometerMileage > 300000].shape"
   ]
  },
  {
   "cell_type": "code",
   "execution_count": 16,
   "id": "906ca4e0",
   "metadata": {},
   "outputs": [
    {
     "data": {
      "text/plain": [
       "(369405, 14)"
      ]
     },
     "execution_count": 16,
     "metadata": {},
     "output_type": "execute_result"
    }
   ],
   "source": [
    "#Eliminate extreme values from column 'OdometerMileage'\n",
    "usedcars = usedcars[(usedcars.OdometerMileage < 300000) & (usedcars.OdometerMileage > 100)]\n",
    "usedcars.shape"
   ]
  },
  {
   "cell_type": "markdown",
   "id": "feb26237",
   "metadata": {},
   "source": [
    "- Cars that are registered earlier than year 1985 may not be the good observations for a robust prediction.\n",
    "- Therefore, the data should be eliminated."
   ]
  },
  {
   "cell_type": "code",
   "execution_count": 17,
   "id": "7432fcc1",
   "metadata": {},
   "outputs": [
    {
     "data": {
      "text/plain": [
       "(8135, 14)"
      ]
     },
     "execution_count": 17,
     "metadata": {},
     "output_type": "execute_result"
    }
   ],
   "source": [
    "#Checking number of entries with registered year older than 1985\n",
    "usedcars[usedcars.RegistrationYear < 1985].shape"
   ]
  },
  {
   "cell_type": "code",
   "execution_count": 18,
   "id": "009e1e1c",
   "metadata": {},
   "outputs": [],
   "source": [
    "#Eliminate extreme values for data with registered year older than 1985\n",
    "usedcars = usedcars[usedcars.RegistrationYear > 1985]"
   ]
  },
  {
   "cell_type": "code",
   "execution_count": 19,
   "id": "facf043b",
   "metadata": {},
   "outputs": [
    {
     "data": {
      "text/plain": [
       "(359876, 14)"
      ]
     },
     "execution_count": 19,
     "metadata": {},
     "output_type": "execute_result"
    }
   ],
   "source": [
    "#Checking the latest number of entries and columns\n",
    "usedcars.shape"
   ]
  },
  {
   "cell_type": "code",
   "execution_count": 20,
   "id": "5b9ad9bc",
   "metadata": {},
   "outputs": [
    {
     "data": {
      "text/html": [
       "<div>\n",
       "<style scoped>\n",
       "    .dataframe tbody tr th:only-of-type {\n",
       "        vertical-align: middle;\n",
       "    }\n",
       "\n",
       "    .dataframe tbody tr th {\n",
       "        vertical-align: top;\n",
       "    }\n",
       "\n",
       "    .dataframe thead th {\n",
       "        text-align: right;\n",
       "    }\n",
       "</style>\n",
       "<table border=\"1\" class=\"dataframe\">\n",
       "  <thead>\n",
       "    <tr style=\"text-align: right;\">\n",
       "      <th></th>\n",
       "      <th>Null</th>\n",
       "      <th>Percentage</th>\n",
       "    </tr>\n",
       "  </thead>\n",
       "  <tbody>\n",
       "    <tr>\n",
       "      <th>Size</th>\n",
       "      <td>259178</td>\n",
       "      <td>72.019</td>\n",
       "    </tr>\n",
       "    <tr>\n",
       "      <th>CylindersNumber</th>\n",
       "      <td>147150</td>\n",
       "      <td>40.889</td>\n",
       "    </tr>\n",
       "    <tr>\n",
       "      <th>Condition</th>\n",
       "      <td>135289</td>\n",
       "      <td>37.593</td>\n",
       "    </tr>\n",
       "    <tr>\n",
       "      <th>DriveType</th>\n",
       "      <td>107196</td>\n",
       "      <td>29.787</td>\n",
       "    </tr>\n",
       "    <tr>\n",
       "      <th>PaintColor</th>\n",
       "      <td>100761</td>\n",
       "      <td>27.999</td>\n",
       "    </tr>\n",
       "    <tr>\n",
       "      <th>CarType</th>\n",
       "      <td>73424</td>\n",
       "      <td>20.403</td>\n",
       "    </tr>\n",
       "    <tr>\n",
       "      <th>Manufacturer</th>\n",
       "      <td>10730</td>\n",
       "      <td>2.982</td>\n",
       "    </tr>\n",
       "    <tr>\n",
       "      <th>TitleStatus</th>\n",
       "      <td>5747</td>\n",
       "      <td>1.597</td>\n",
       "    </tr>\n",
       "    <tr>\n",
       "      <th>Model</th>\n",
       "      <td>3270</td>\n",
       "      <td>0.909</td>\n",
       "    </tr>\n",
       "    <tr>\n",
       "      <th>FuelType</th>\n",
       "      <td>2062</td>\n",
       "      <td>0.573</td>\n",
       "    </tr>\n",
       "    <tr>\n",
       "      <th>TransmissionType</th>\n",
       "      <td>1442</td>\n",
       "      <td>0.401</td>\n",
       "    </tr>\n",
       "    <tr>\n",
       "      <th>SellingPrice</th>\n",
       "      <td>0</td>\n",
       "      <td>0.000</td>\n",
       "    </tr>\n",
       "    <tr>\n",
       "      <th>RegistrationYear</th>\n",
       "      <td>0</td>\n",
       "      <td>0.000</td>\n",
       "    </tr>\n",
       "    <tr>\n",
       "      <th>OdometerMileage</th>\n",
       "      <td>0</td>\n",
       "      <td>0.000</td>\n",
       "    </tr>\n",
       "  </tbody>\n",
       "</table>\n",
       "</div>"
      ],
      "text/plain": [
       "                    Null  Percentage\n",
       "Size              259178      72.019\n",
       "CylindersNumber   147150      40.889\n",
       "Condition         135289      37.593\n",
       "DriveType         107196      29.787\n",
       "PaintColor        100761      27.999\n",
       "CarType            73424      20.403\n",
       "Manufacturer       10730       2.982\n",
       "TitleStatus         5747       1.597\n",
       "Model               3270       0.909\n",
       "FuelType            2062       0.573\n",
       "TransmissionType    1442       0.401\n",
       "SellingPrice           0       0.000\n",
       "RegistrationYear       0       0.000\n",
       "OdometerMileage        0       0.000"
      ]
     },
     "execution_count": 20,
     "metadata": {},
     "output_type": "execute_result"
    }
   ],
   "source": [
    "#Determine the total number of missing values and its percentage in every variable\n",
    "NullValues=usedcars.isnull().sum()\n",
    "NullValues=pd.DataFrame(NullValues,columns=['Null'])\n",
    "j=1\n",
    "sum_total_entries=len(usedcars)\n",
    "NullValues['Percentage']=(NullValues['Null']/sum_total_entries)*100\n",
    "round(NullValues,3).sort_values('Percentage', ascending=False)"
   ]
  },
  {
   "cell_type": "markdown",
   "id": "70f20992",
   "metadata": {},
   "source": [
    "#### Dealing with missing values\n",
    "- Dealing with missing values in column 'Condition'"
   ]
  },
  {
   "cell_type": "code",
   "execution_count": 21,
   "id": "36622b86",
   "metadata": {},
   "outputs": [
    {
     "data": {
      "text/plain": [
       "135289"
      ]
     },
     "execution_count": 21,
     "metadata": {},
     "output_type": "execute_result"
    }
   ],
   "source": [
    "#Checking the total numbers of null values in feature 'Condition'\n",
    "usedcars['Condition'].isnull().sum()"
   ]
  },
  {
   "cell_type": "code",
   "execution_count": 22,
   "id": "8789640a",
   "metadata": {},
   "outputs": [
    {
     "data": {
      "text/plain": [
       "37190"
      ]
     },
     "execution_count": 22,
     "metadata": {},
     "output_type": "execute_result"
    }
   ],
   "source": [
    "#Checking the total numbers of null values in feature 'Condition', in which \n",
    "#its corresponding year of registeration is newer or equal to 2017\n",
    "usedcars.loc[(usedcars['RegistrationYear'] >= 2017)]['Condition'].isnull().sum()"
   ]
  },
  {
   "cell_type": "code",
   "execution_count": 23,
   "id": "9d306801",
   "metadata": {},
   "outputs": [
    {
     "data": {
      "text/plain": [
       "good         113607\n",
       "excellent     86775\n",
       "like new      18538\n",
       "fair           4662\n",
       "new             672\n",
       "salvage         333\n",
       "Name: Condition, dtype: int64"
      ]
     },
     "execution_count": 23,
     "metadata": {},
     "output_type": "execute_result"
    }
   ],
   "source": [
    "#Checking the sum of null values in each category of 'Condition'\n",
    "usedcars.Condition.value_counts()"
   ]
  },
  {
   "cell_type": "markdown",
   "id": "90cf3dbc",
   "metadata": {},
   "source": [
    "- Condition for used cars  registered after year 2019 is considered as \"new\" while that of 2017-2019 is \"like new\"."
   ]
  },
  {
   "cell_type": "code",
   "execution_count": 24,
   "id": "834a4dce",
   "metadata": {},
   "outputs": [],
   "source": [
    "#Missing values under column 'Condition' is filled into category 'new' and 'like new', if\n",
    "#their corresponding year of registeration is greater or equal to 2017\n",
    "usedcars.loc[usedcars.RegistrationYear>=2019, 'Condition'] = usedcars.loc[usedcars.RegistrationYear>=2019, 'Condition'].fillna('new')\n",
    "usedcars.loc[usedcars.RegistrationYear>=2017, 'Condition'] = usedcars.loc[usedcars.RegistrationYear>=2017, 'Condition'].fillna('like new')"
   ]
  },
  {
   "cell_type": "code",
   "execution_count": 25,
   "id": "f69e1946",
   "metadata": {},
   "outputs": [
    {
     "data": {
      "text/plain": [
       "good         113607\n",
       "excellent     86775\n",
       "like new      42363\n",
       "new           14037\n",
       "fair           4662\n",
       "salvage         333\n",
       "Name: Condition, dtype: int64"
      ]
     },
     "execution_count": 25,
     "metadata": {},
     "output_type": "execute_result"
    }
   ],
   "source": [
    "#Checking the sum of null values in each category of 'Condition'\n",
    "usedcars.Condition.value_counts()"
   ]
  },
  {
   "cell_type": "markdown",
   "id": "952fda79",
   "metadata": {},
   "source": [
    "It shows that the number of entries under categories 'like new' and 'new' have increased."
   ]
  },
  {
   "cell_type": "markdown",
   "id": "90fc1a0a",
   "metadata": {},
   "source": [
    "- Dealing with the remaining missing values in column 'Condition'. <br>\n",
    "- Next, assuming that the mileage of used car might affect it's condition. <br>\n",
    "- Hence, the missing values in column 'Condition' is filled, by comparing their corresponding odometer value with the mean of odometer."
   ]
  },
  {
   "cell_type": "code",
   "execution_count": 26,
   "id": "dc442d47",
   "metadata": {},
   "outputs": [],
   "source": [
    "#The odometer values are categorized based on their corresponding category in column 'Condition'\n",
    "#Finding the mean of odometer of each category, namely 'excellent'(Exc), 'good'(Good), 'new'(New), \n",
    "#'like new'(LNew), 'salvage'(Salv) and 'fair'(Fair)\n",
    "Exc_odo_mean = usedcars[usedcars['Condition'] == 'excellent']['OdometerMileage'].mean()\n",
    "Good_odo_mean = usedcars[usedcars['Condition'] == 'good']['OdometerMileage'].mean()\n",
    "New_odo_mean = usedcars[usedcars['Condition'] == 'new']['OdometerMileage'].mean()\n",
    "LNew_odo_mean = usedcars[usedcars['Condition'] == 'like new']['OdometerMileage'].mean()\n",
    "Salv_odo_mean = usedcars[usedcars['Condition'] == 'salvage']['OdometerMileage'].mean()\n",
    "Fair_odo_mean = usedcars[usedcars['Condition'] == 'fair']['OdometerMileage'].mean()"
   ]
  },
  {
   "cell_type": "code",
   "execution_count": 27,
   "id": "e10e32db",
   "metadata": {},
   "outputs": [
    {
     "name": "stdout",
     "output_type": "stream",
     "text": [
      "Mean of odometer with excellent condition: 108574\n",
      "Mean of odometer with good condition: 75893\n",
      "Mean of odometer with new condition: 26347\n",
      "Mean of odometer with like-new condition: 66576\n",
      "Mean of odometer with fair condition: 169875\n",
      "Mean of odometer with salvage condition: 134142\n"
     ]
    }
   ],
   "source": [
    "#Showing the mean of odometer based on category\n",
    "print('Mean of odometer with excellent condition:', round(Exc_odo_mean, ))\n",
    "print('Mean of odometer with good condition:', round(Good_odo_mean, ))\n",
    "print('Mean of odometer with new condition:', round(New_odo_mean, ))\n",
    "print('Mean of odometer with like-new condition:', round(LNew_odo_mean, ))\n",
    "print('Mean of odometer with fair condition:', round(Fair_odo_mean, ))\n",
    "print('Mean of odometer with salvage condition:', round(Salv_odo_mean, ))"
   ]
  },
  {
   "cell_type": "code",
   "execution_count": 28,
   "id": "ba8cbac3",
   "metadata": {},
   "outputs": [
    {
     "data": {
      "text/plain": [
       "good         33597\n",
       "new           8524\n",
       "like new      8015\n",
       "excellent     4744\n",
       "fair            82\n",
       "salvage         18\n",
       "Name: Condition, dtype: int64"
      ]
     },
     "execution_count": 28,
     "metadata": {},
     "output_type": "execute_result"
    }
   ],
   "source": [
    "#Checking the number of entries under different categories of 'condition', in which\n",
    "#their correponding odometer are smaller or equal to New_odo_mean\n",
    "usedcars.loc[usedcars['OdometerMileage'] <= New_odo_mean, 'Condition'].value_counts()"
   ]
  },
  {
   "cell_type": "code",
   "execution_count": 29,
   "id": "1f1f949a",
   "metadata": {},
   "outputs": [
    {
     "data": {
      "text/plain": [
       "[('New', 26347),\n",
       " ('Like new', 66576),\n",
       " ('Good', 75893),\n",
       " ('Excellent', 108574),\n",
       " ('Salvage', 134142),\n",
       " ('Fair', 169875)]"
      ]
     },
     "execution_count": 29,
     "metadata": {},
     "output_type": "execute_result"
    }
   ],
   "source": [
    "#Sorting the mean of odometer by category in ascending order \n",
    "OdometerMean_byCategory = (('Excellent',round(Exc_odo_mean, )), ('Good', round(Good_odo_mean, )), \n",
    "                             ('New', round(New_odo_mean, )), ('Like new', round(LNew_odo_mean, )),\n",
    "                            ('Fair', round(Fair_odo_mean, )), ('Salvage', round(Salv_odo_mean, )))\n",
    "\n",
    "sorted(OdometerMean_byCategory, key = lambda x: x[1]) #sort based on second value (mean)"
   ]
  },
  {
   "cell_type": "code",
   "execution_count": 30,
   "id": "c30abcbc",
   "metadata": {},
   "outputs": [],
   "source": [
    "#Filling missing values in column 'Condition' as 'new',\n",
    "#if their corresponding odometer is smaller or equal to the mean of odometer 'new'\n",
    "usedcars.loc[usedcars['OdometerMileage'] <= New_odo_mean, 'Condition'] = usedcars.loc[usedcars['OdometerMileage'] <= New_odo_mean, 'Condition'].fillna('new')\n",
    "\n",
    "#Filling missing values in column 'Condition' as 'fair',\n",
    "#if their corresponding odometer is greater than the mean of odometer 'fair'\n",
    "usedcars.loc[usedcars['OdometerMileage'] > Fair_odo_mean, 'Condition'] = usedcars.loc[usedcars['OdometerMileage'] > Fair_odo_mean, 'Condition'].fillna('fair')\n",
    "\n",
    "#Filling missing values in column 'Condition' as 'like new',\n",
    "#if their corresponding odometer is smaller or equal to the mean of odometer 'like new'  \n",
    "#and greater than the mean of odometer 'new'\n",
    "usedcars.loc[((usedcars['OdometerMileage'] > New_odo_mean) & \n",
    "       (usedcars['OdometerMileage'] <= LNew_odo_mean)), 'Condition'] = usedcars.loc[((usedcars['OdometerMileage'] > New_odo_mean) & \n",
    "       (usedcars['OdometerMileage'] <= LNew_odo_mean)), 'Condition'].fillna('like new')\n",
    "\n",
    "#Filling missing values in column 'Condition' as 'good',\n",
    "#if their corresponding odometer is smaller or equal to the mean of odometer 'good'\n",
    "#and greater than mean of odometer 'like new'\n",
    "usedcars.loc[((usedcars['OdometerMileage'] > LNew_odo_mean) & \n",
    "       (usedcars['OdometerMileage'] <= Good_odo_mean)), 'Condition'] = usedcars.loc[((usedcars['OdometerMileage'] > LNew_odo_mean) & \n",
    "       (usedcars['OdometerMileage'] <= Good_odo_mean)), 'Condition'].fillna('good')\n",
    "\n",
    "#Filling missing values in column 'Condition' as 'excellent',\n",
    "#if their corresponding odometer is smaller or equal to the mean of odometer 'excellent' \n",
    "#and greater than the mean of odometer 'good'\n",
    "usedcars.loc[((usedcars['OdometerMileage'] > Good_odo_mean) & \n",
    "       (usedcars['OdometerMileage'] <= Exc_odo_mean)), 'Condition'] = usedcars.loc[((usedcars['OdometerMileage'] > Good_odo_mean) & \n",
    "       (usedcars['OdometerMileage'] <= Exc_odo_mean)), 'Condition'].fillna('excellent')\n",
    "\n",
    "#Filling missing values in column 'Condition' as 'salvage',\n",
    "#if their corresponding odometer is smaller or equal to the mean of odometer 'fair'\n",
    "#and greater than the mean of odometer 'excellent'\n",
    "usedcars.loc[((usedcars['OdometerMileage'] > Exc_odo_mean) & \n",
    "       (usedcars['OdometerMileage'] <= Fair_odo_mean)), 'Condition'] = usedcars.loc[((usedcars['OdometerMileage'] > Exc_odo_mean) & \n",
    "       (usedcars['OdometerMileage'] <= Fair_odo_mean)), 'Condition'].fillna('salvage')"
   ]
  },
  {
   "cell_type": "code",
   "execution_count": 31,
   "id": "79488eda",
   "metadata": {},
   "outputs": [
    {
     "data": {
      "text/html": [
       "<div>\n",
       "<style scoped>\n",
       "    .dataframe tbody tr th:only-of-type {\n",
       "        vertical-align: middle;\n",
       "    }\n",
       "\n",
       "    .dataframe tbody tr th {\n",
       "        vertical-align: top;\n",
       "    }\n",
       "\n",
       "    .dataframe thead th {\n",
       "        text-align: right;\n",
       "    }\n",
       "</style>\n",
       "<table border=\"1\" class=\"dataframe\">\n",
       "  <thead>\n",
       "    <tr style=\"text-align: right;\">\n",
       "      <th></th>\n",
       "      <th>Null</th>\n",
       "      <th>Percentage</th>\n",
       "    </tr>\n",
       "  </thead>\n",
       "  <tbody>\n",
       "    <tr>\n",
       "      <th>Size</th>\n",
       "      <td>259178</td>\n",
       "      <td>72.019</td>\n",
       "    </tr>\n",
       "    <tr>\n",
       "      <th>CylindersNumber</th>\n",
       "      <td>147150</td>\n",
       "      <td>40.889</td>\n",
       "    </tr>\n",
       "    <tr>\n",
       "      <th>DriveType</th>\n",
       "      <td>107196</td>\n",
       "      <td>29.787</td>\n",
       "    </tr>\n",
       "    <tr>\n",
       "      <th>PaintColor</th>\n",
       "      <td>100761</td>\n",
       "      <td>27.999</td>\n",
       "    </tr>\n",
       "    <tr>\n",
       "      <th>CarType</th>\n",
       "      <td>73424</td>\n",
       "      <td>20.403</td>\n",
       "    </tr>\n",
       "    <tr>\n",
       "      <th>Manufacturer</th>\n",
       "      <td>10730</td>\n",
       "      <td>2.982</td>\n",
       "    </tr>\n",
       "    <tr>\n",
       "      <th>TitleStatus</th>\n",
       "      <td>5747</td>\n",
       "      <td>1.597</td>\n",
       "    </tr>\n",
       "    <tr>\n",
       "      <th>Model</th>\n",
       "      <td>3270</td>\n",
       "      <td>0.909</td>\n",
       "    </tr>\n",
       "    <tr>\n",
       "      <th>FuelType</th>\n",
       "      <td>2062</td>\n",
       "      <td>0.573</td>\n",
       "    </tr>\n",
       "    <tr>\n",
       "      <th>TransmissionType</th>\n",
       "      <td>1442</td>\n",
       "      <td>0.401</td>\n",
       "    </tr>\n",
       "    <tr>\n",
       "      <th>SellingPrice</th>\n",
       "      <td>0</td>\n",
       "      <td>0.000</td>\n",
       "    </tr>\n",
       "    <tr>\n",
       "      <th>RegistrationYear</th>\n",
       "      <td>0</td>\n",
       "      <td>0.000</td>\n",
       "    </tr>\n",
       "    <tr>\n",
       "      <th>Condition</th>\n",
       "      <td>0</td>\n",
       "      <td>0.000</td>\n",
       "    </tr>\n",
       "    <tr>\n",
       "      <th>OdometerMileage</th>\n",
       "      <td>0</td>\n",
       "      <td>0.000</td>\n",
       "    </tr>\n",
       "  </tbody>\n",
       "</table>\n",
       "</div>"
      ],
      "text/plain": [
       "                    Null  Percentage\n",
       "Size              259178      72.019\n",
       "CylindersNumber   147150      40.889\n",
       "DriveType         107196      29.787\n",
       "PaintColor        100761      27.999\n",
       "CarType            73424      20.403\n",
       "Manufacturer       10730       2.982\n",
       "TitleStatus         5747       1.597\n",
       "Model               3270       0.909\n",
       "FuelType            2062       0.573\n",
       "TransmissionType    1442       0.401\n",
       "SellingPrice           0       0.000\n",
       "RegistrationYear       0       0.000\n",
       "Condition              0       0.000\n",
       "OdometerMileage        0       0.000"
      ]
     },
     "execution_count": 31,
     "metadata": {},
     "output_type": "execute_result"
    }
   ],
   "source": [
    "#Determine the total number of missing values and its percentage in every variable\n",
    "NullValues=usedcars.isnull().sum()\n",
    "NullValues=pd.DataFrame(NullValues,columns=['Null'])\n",
    "j=1\n",
    "sum_total_entries=len(usedcars)\n",
    "NullValues['Percentage']=(NullValues['Null']/sum_total_entries)*100\n",
    "round(NullValues,3).sort_values('Percentage', ascending=False)"
   ]
  },
  {
   "cell_type": "markdown",
   "id": "2a8da02f",
   "metadata": {},
   "source": [
    "- The 'ffill' method is used to fill in all missing values in the remaining columns.\n",
    "- The method propagates the last valid observation to the next observation.\n",
    "- If the next observation is a missing value, then it will be filled by the value of last observation."
   ]
  },
  {
   "cell_type": "code",
   "execution_count": 32,
   "id": "3e9aa89f",
   "metadata": {},
   "outputs": [],
   "source": [
    "#Filling rest of the missing values with 'ffill' method\n",
    "usedcars['Manufacturer'] = usedcars['Manufacturer'].fillna(method='ffill')\n",
    "usedcars['Model'] = usedcars['Model'].fillna(method='ffill')\n",
    "usedcars['CylindersNumber'] = usedcars['CylindersNumber'].fillna(method='ffill')\n",
    "usedcars['FuelType'] = usedcars['FuelType'].fillna(method='ffill')\n",
    "usedcars['TitleStatus'] = usedcars['TitleStatus'].fillna(method='ffill')\n",
    "usedcars['TransmissionType'] = usedcars['TransmissionType'].fillna(method='ffill')\n",
    "usedcars['DriveType'] = usedcars['DriveType'].fillna(method='ffill')\n",
    "usedcars['Size'] = usedcars['Size'].fillna(method='ffill')\n",
    "usedcars['CarType'] = usedcars['CarType'].fillna(method='ffill')\n",
    "usedcars['PaintColor'] = usedcars['PaintColor'].fillna(method='ffill')"
   ]
  },
  {
   "cell_type": "code",
   "execution_count": 33,
   "id": "8a85a14e",
   "metadata": {},
   "outputs": [
    {
     "data": {
      "text/plain": [
       "SellingPrice        0\n",
       "RegistrationYear    0\n",
       "Manufacturer        0\n",
       "Model               0\n",
       "Condition           0\n",
       "CylindersNumber     0\n",
       "FuelType            0\n",
       "OdometerMileage     0\n",
       "TitleStatus         0\n",
       "TransmissionType    0\n",
       "DriveType           4\n",
       "Size                4\n",
       "CarType             0\n",
       "PaintColor          0\n",
       "dtype: int64"
      ]
     },
     "execution_count": 33,
     "metadata": {},
     "output_type": "execute_result"
    }
   ],
   "source": [
    "#Checking if there is any null value remained\n",
    "usedcars.isnull().sum()"
   ]
  },
  {
   "cell_type": "markdown",
   "id": "30341b45",
   "metadata": {},
   "source": [
    "There is still missing values in columns 'DriveType' and 'Size'. This might happen as there is no non-NA value before the particular missing values to be propagated."
   ]
  },
  {
   "cell_type": "code",
   "execution_count": 34,
   "id": "f72bd15a",
   "metadata": {},
   "outputs": [
    {
     "data": {
      "text/html": [
       "<div>\n",
       "<style scoped>\n",
       "    .dataframe tbody tr th:only-of-type {\n",
       "        vertical-align: middle;\n",
       "    }\n",
       "\n",
       "    .dataframe tbody tr th {\n",
       "        vertical-align: top;\n",
       "    }\n",
       "\n",
       "    .dataframe thead th {\n",
       "        text-align: right;\n",
       "    }\n",
       "</style>\n",
       "<table border=\"1\" class=\"dataframe\">\n",
       "  <thead>\n",
       "    <tr style=\"text-align: right;\">\n",
       "      <th></th>\n",
       "      <th>SellingPrice</th>\n",
       "      <th>RegistrationYear</th>\n",
       "      <th>Manufacturer</th>\n",
       "      <th>Model</th>\n",
       "      <th>Condition</th>\n",
       "      <th>CylindersNumber</th>\n",
       "      <th>FuelType</th>\n",
       "      <th>OdometerMileage</th>\n",
       "      <th>TitleStatus</th>\n",
       "      <th>TransmissionType</th>\n",
       "      <th>DriveType</th>\n",
       "      <th>Size</th>\n",
       "      <th>CarType</th>\n",
       "      <th>PaintColor</th>\n",
       "    </tr>\n",
       "  </thead>\n",
       "  <tbody>\n",
       "    <tr>\n",
       "      <th>27</th>\n",
       "      <td>33590</td>\n",
       "      <td>2014.0</td>\n",
       "      <td>gmc</td>\n",
       "      <td>sierra 1500 crew cab slt</td>\n",
       "      <td>good</td>\n",
       "      <td>8 cylinders</td>\n",
       "      <td>gas</td>\n",
       "      <td>57923.0</td>\n",
       "      <td>clean</td>\n",
       "      <td>other</td>\n",
       "      <td>NaN</td>\n",
       "      <td>NaN</td>\n",
       "      <td>pickup</td>\n",
       "      <td>white</td>\n",
       "    </tr>\n",
       "    <tr>\n",
       "      <th>28</th>\n",
       "      <td>22590</td>\n",
       "      <td>2010.0</td>\n",
       "      <td>chevrolet</td>\n",
       "      <td>silverado 1500</td>\n",
       "      <td>good</td>\n",
       "      <td>8 cylinders</td>\n",
       "      <td>gas</td>\n",
       "      <td>71229.0</td>\n",
       "      <td>clean</td>\n",
       "      <td>other</td>\n",
       "      <td>NaN</td>\n",
       "      <td>NaN</td>\n",
       "      <td>pickup</td>\n",
       "      <td>blue</td>\n",
       "    </tr>\n",
       "    <tr>\n",
       "      <th>29</th>\n",
       "      <td>39590</td>\n",
       "      <td>2020.0</td>\n",
       "      <td>chevrolet</td>\n",
       "      <td>silverado 1500 crew</td>\n",
       "      <td>good</td>\n",
       "      <td>8 cylinders</td>\n",
       "      <td>gas</td>\n",
       "      <td>19160.0</td>\n",
       "      <td>clean</td>\n",
       "      <td>other</td>\n",
       "      <td>NaN</td>\n",
       "      <td>NaN</td>\n",
       "      <td>pickup</td>\n",
       "      <td>red</td>\n",
       "    </tr>\n",
       "    <tr>\n",
       "      <th>30</th>\n",
       "      <td>30990</td>\n",
       "      <td>2017.0</td>\n",
       "      <td>toyota</td>\n",
       "      <td>tundra double cab sr</td>\n",
       "      <td>good</td>\n",
       "      <td>8 cylinders</td>\n",
       "      <td>gas</td>\n",
       "      <td>41124.0</td>\n",
       "      <td>clean</td>\n",
       "      <td>other</td>\n",
       "      <td>NaN</td>\n",
       "      <td>NaN</td>\n",
       "      <td>pickup</td>\n",
       "      <td>red</td>\n",
       "    </tr>\n",
       "    <tr>\n",
       "      <th>31</th>\n",
       "      <td>15000</td>\n",
       "      <td>2013.0</td>\n",
       "      <td>ford</td>\n",
       "      <td>f-150 xlt</td>\n",
       "      <td>excellent</td>\n",
       "      <td>6 cylinders</td>\n",
       "      <td>gas</td>\n",
       "      <td>128000.0</td>\n",
       "      <td>clean</td>\n",
       "      <td>automatic</td>\n",
       "      <td>rwd</td>\n",
       "      <td>full-size</td>\n",
       "      <td>truck</td>\n",
       "      <td>black</td>\n",
       "    </tr>\n",
       "  </tbody>\n",
       "</table>\n",
       "</div>"
      ],
      "text/plain": [
       "    SellingPrice  RegistrationYear Manufacturer                     Model  \\\n",
       "27         33590            2014.0          gmc  sierra 1500 crew cab slt   \n",
       "28         22590            2010.0    chevrolet            silverado 1500   \n",
       "29         39590            2020.0    chevrolet       silverado 1500 crew   \n",
       "30         30990            2017.0       toyota      tundra double cab sr   \n",
       "31         15000            2013.0         ford                 f-150 xlt   \n",
       "\n",
       "    Condition CylindersNumber FuelType  OdometerMileage TitleStatus  \\\n",
       "27       good     8 cylinders      gas          57923.0       clean   \n",
       "28       good     8 cylinders      gas          71229.0       clean   \n",
       "29       good     8 cylinders      gas          19160.0       clean   \n",
       "30       good     8 cylinders      gas          41124.0       clean   \n",
       "31  excellent     6 cylinders      gas         128000.0       clean   \n",
       "\n",
       "   TransmissionType DriveType       Size CarType PaintColor  \n",
       "27            other       NaN        NaN  pickup      white  \n",
       "28            other       NaN        NaN  pickup       blue  \n",
       "29            other       NaN        NaN  pickup        red  \n",
       "30            other       NaN        NaN  pickup        red  \n",
       "31        automatic       rwd  full-size   truck      black  "
      ]
     },
     "execution_count": 34,
     "metadata": {},
     "output_type": "execute_result"
    }
   ],
   "source": [
    "#Checking the missing value\n",
    "usedcars.head()"
   ]
  },
  {
   "cell_type": "markdown",
   "id": "29be5328",
   "metadata": {},
   "source": [
    "As shown above, since row 27-30 are the first four rows of the dataset, in which there is no non-NA value could be propagated,  the 'DriveType' and 'Size' values in the first four row remain as null values."
   ]
  },
  {
   "cell_type": "code",
   "execution_count": 35,
   "id": "eae49815",
   "metadata": {},
   "outputs": [
    {
     "name": "stdout",
     "output_type": "stream",
     "text": [
      "<class 'pandas.core.frame.DataFrame'>\n",
      "Int64Index: 359876 entries, 27 to 426879\n",
      "Data columns (total 14 columns):\n",
      " #   Column            Non-Null Count   Dtype  \n",
      "---  ------            --------------   -----  \n",
      " 0   SellingPrice      359876 non-null  int64  \n",
      " 1   RegistrationYear  359876 non-null  float64\n",
      " 2   Manufacturer      359876 non-null  object \n",
      " 3   Model             359876 non-null  object \n",
      " 4   Condition         359876 non-null  object \n",
      " 5   CylindersNumber   359876 non-null  object \n",
      " 6   FuelType          359876 non-null  object \n",
      " 7   OdometerMileage   359876 non-null  float64\n",
      " 8   TitleStatus       359876 non-null  object \n",
      " 9   TransmissionType  359876 non-null  object \n",
      " 10  DriveType         359872 non-null  object \n",
      " 11  Size              359872 non-null  object \n",
      " 12  CarType           359876 non-null  object \n",
      " 13  PaintColor        359876 non-null  object \n",
      "dtypes: float64(2), int64(1), object(11)\n",
      "memory usage: 41.2+ MB\n"
     ]
    }
   ],
   "source": [
    "#Checking the information of dataframe\n",
    "usedcars.info()"
   ]
  },
  {
   "cell_type": "markdown",
   "id": "ad98b55b",
   "metadata": {},
   "source": [
    "Since there are only 4 missing values in total 359,876 of the remaining entries, the rows with missing values will be dropped."
   ]
  },
  {
   "cell_type": "code",
   "execution_count": 36,
   "id": "980cc116",
   "metadata": {},
   "outputs": [],
   "source": [
    "#Elimates 4 observations with missing values in columns 'DriveType' and 'Size'\n",
    "usedcars.dropna(inplace=True)"
   ]
  },
  {
   "cell_type": "code",
   "execution_count": 37,
   "id": "65dde5ca",
   "metadata": {},
   "outputs": [
    {
     "data": {
      "text/plain": [
       "SellingPrice        0\n",
       "RegistrationYear    0\n",
       "Manufacturer        0\n",
       "Model               0\n",
       "Condition           0\n",
       "CylindersNumber     0\n",
       "FuelType            0\n",
       "OdometerMileage     0\n",
       "TitleStatus         0\n",
       "TransmissionType    0\n",
       "DriveType           0\n",
       "Size                0\n",
       "CarType             0\n",
       "PaintColor          0\n",
       "dtype: int64"
      ]
     },
     "execution_count": 37,
     "metadata": {},
     "output_type": "execute_result"
    }
   ],
   "source": [
    "#Checking if there is any null value remained\n",
    "usedcars.isnull().sum()"
   ]
  },
  {
   "cell_type": "code",
   "execution_count": 38,
   "id": "eb829335",
   "metadata": {},
   "outputs": [
    {
     "data": {
      "text/html": [
       "<div>\n",
       "<style scoped>\n",
       "    .dataframe tbody tr th:only-of-type {\n",
       "        vertical-align: middle;\n",
       "    }\n",
       "\n",
       "    .dataframe tbody tr th {\n",
       "        vertical-align: top;\n",
       "    }\n",
       "\n",
       "    .dataframe thead th {\n",
       "        text-align: right;\n",
       "    }\n",
       "</style>\n",
       "<table border=\"1\" class=\"dataframe\">\n",
       "  <thead>\n",
       "    <tr style=\"text-align: right;\">\n",
       "      <th></th>\n",
       "      <th>Null</th>\n",
       "      <th>Percentage</th>\n",
       "    </tr>\n",
       "  </thead>\n",
       "  <tbody>\n",
       "    <tr>\n",
       "      <th>SellingPrice</th>\n",
       "      <td>0</td>\n",
       "      <td>0.0</td>\n",
       "    </tr>\n",
       "    <tr>\n",
       "      <th>RegistrationYear</th>\n",
       "      <td>0</td>\n",
       "      <td>0.0</td>\n",
       "    </tr>\n",
       "    <tr>\n",
       "      <th>Manufacturer</th>\n",
       "      <td>0</td>\n",
       "      <td>0.0</td>\n",
       "    </tr>\n",
       "    <tr>\n",
       "      <th>Model</th>\n",
       "      <td>0</td>\n",
       "      <td>0.0</td>\n",
       "    </tr>\n",
       "    <tr>\n",
       "      <th>Condition</th>\n",
       "      <td>0</td>\n",
       "      <td>0.0</td>\n",
       "    </tr>\n",
       "    <tr>\n",
       "      <th>CylindersNumber</th>\n",
       "      <td>0</td>\n",
       "      <td>0.0</td>\n",
       "    </tr>\n",
       "    <tr>\n",
       "      <th>FuelType</th>\n",
       "      <td>0</td>\n",
       "      <td>0.0</td>\n",
       "    </tr>\n",
       "    <tr>\n",
       "      <th>OdometerMileage</th>\n",
       "      <td>0</td>\n",
       "      <td>0.0</td>\n",
       "    </tr>\n",
       "    <tr>\n",
       "      <th>TitleStatus</th>\n",
       "      <td>0</td>\n",
       "      <td>0.0</td>\n",
       "    </tr>\n",
       "    <tr>\n",
       "      <th>TransmissionType</th>\n",
       "      <td>0</td>\n",
       "      <td>0.0</td>\n",
       "    </tr>\n",
       "    <tr>\n",
       "      <th>DriveType</th>\n",
       "      <td>0</td>\n",
       "      <td>0.0</td>\n",
       "    </tr>\n",
       "    <tr>\n",
       "      <th>Size</th>\n",
       "      <td>0</td>\n",
       "      <td>0.0</td>\n",
       "    </tr>\n",
       "    <tr>\n",
       "      <th>CarType</th>\n",
       "      <td>0</td>\n",
       "      <td>0.0</td>\n",
       "    </tr>\n",
       "    <tr>\n",
       "      <th>PaintColor</th>\n",
       "      <td>0</td>\n",
       "      <td>0.0</td>\n",
       "    </tr>\n",
       "  </tbody>\n",
       "</table>\n",
       "</div>"
      ],
      "text/plain": [
       "                  Null  Percentage\n",
       "SellingPrice         0         0.0\n",
       "RegistrationYear     0         0.0\n",
       "Manufacturer         0         0.0\n",
       "Model                0         0.0\n",
       "Condition            0         0.0\n",
       "CylindersNumber      0         0.0\n",
       "FuelType             0         0.0\n",
       "OdometerMileage      0         0.0\n",
       "TitleStatus          0         0.0\n",
       "TransmissionType     0         0.0\n",
       "DriveType            0         0.0\n",
       "Size                 0         0.0\n",
       "CarType              0         0.0\n",
       "PaintColor           0         0.0"
      ]
     },
     "execution_count": 38,
     "metadata": {},
     "output_type": "execute_result"
    }
   ],
   "source": [
    "#Determine the total number of missing values and its percentage in every variable\n",
    "NullValues=usedcars.isnull().sum()\n",
    "NullValues=pd.DataFrame(NullValues,columns=['Null'])\n",
    "j=1\n",
    "sum_total_entries=len(usedcars)\n",
    "NullValues['Percentage']=(NullValues['Null']/sum_total_entries)*100\n",
    "round(NullValues,3).sort_values('Percentage', ascending=False)"
   ]
  },
  {
   "cell_type": "code",
   "execution_count": 39,
   "id": "4df1d4e2",
   "metadata": {},
   "outputs": [
    {
     "name": "stdout",
     "output_type": "stream",
     "text": [
      "<class 'pandas.core.frame.DataFrame'>\n",
      "Int64Index: 359872 entries, 31 to 426879\n",
      "Data columns (total 14 columns):\n",
      " #   Column            Non-Null Count   Dtype  \n",
      "---  ------            --------------   -----  \n",
      " 0   SellingPrice      359872 non-null  int64  \n",
      " 1   RegistrationYear  359872 non-null  float64\n",
      " 2   Manufacturer      359872 non-null  object \n",
      " 3   Model             359872 non-null  object \n",
      " 4   Condition         359872 non-null  object \n",
      " 5   CylindersNumber   359872 non-null  object \n",
      " 6   FuelType          359872 non-null  object \n",
      " 7   OdometerMileage   359872 non-null  float64\n",
      " 8   TitleStatus       359872 non-null  object \n",
      " 9   TransmissionType  359872 non-null  object \n",
      " 10  DriveType         359872 non-null  object \n",
      " 11  Size              359872 non-null  object \n",
      " 12  CarType           359872 non-null  object \n",
      " 13  PaintColor        359872 non-null  object \n",
      "dtypes: float64(2), int64(1), object(11)\n",
      "memory usage: 41.2+ MB\n"
     ]
    }
   ],
   "source": [
    "#Checking the information of dataframe\n",
    "usedcars.info()"
   ]
  },
  {
   "cell_type": "markdown",
   "id": "5d90b871",
   "metadata": {},
   "source": [
    " There are 359,872 observations in the dataframe that will be further studied and analyzed after data cleaning."
   ]
  },
  {
   "cell_type": "markdown",
   "id": "0f9e02a4",
   "metadata": {},
   "source": [
    "## 3.3 Data Exploratory Analysis\n",
    "### 3.3.1 Data Visualization on Data Features \n"
   ]
  },
  {
   "cell_type": "code",
   "execution_count": 40,
   "id": "109f9558",
   "metadata": {},
   "outputs": [
    {
     "data": {
      "image/png": "[encoded data removed]",
      "text/plain": [
       "<Figure size 640x480 with 1 Axes>"
      ]
     },
     "metadata": {},
     "output_type": "display_data"
    }
   ],
   "source": [
    "#Identify which years have the highest number of cars registered\n",
    "ax = sns.countplot(y=\"RegistrationYear\",data= usedcars, order=usedcars.RegistrationYear.value_counts().iloc[:10].index,  palette=\"tab20b\")\n",
    "ax.set(xlabel=\"Number of Car\", ylabel=\"Year\", title=\"Number of Used Car by Year of Registration\")\n",
    "plt.xlim([15000, 35000])\n",
    "plt.show()"
   ]
  },
  {
   "cell_type": "markdown",
   "id": "d9db2e83",
   "metadata": {},
   "source": [
    "Most of the used cars are registered within the last ten years."
   ]
  },
  {
   "cell_type": "code",
   "execution_count": 41,
   "id": "c6cc535f",
   "metadata": {},
   "outputs": [
    {
     "data": {
      "image/png": "[encoded data removed]",
      "text/plain": [
       "<Figure size 640x480 with 1 Axes>"
      ]
     },
     "metadata": {},
     "output_type": "display_data"
    }
   ],
   "source": [
    "#Identify the number of used car by their manufacturer\n",
    "ax1 = sns.countplot(y=\"Manufacturer\", data=usedcars, order=usedcars.Manufacturer.value_counts().iloc[:10].index, palette=\"tab20\")\n",
    "ax1.set(xlabel=\"Number of Car\", ylabel=\"Manufacturer\", title=\"Number of Used Car by Manufacturer\")\n",
    "plt.show()"
   ]
  },
  {
   "cell_type": "markdown",
   "id": "59ae4865",
   "metadata": {},
   "source": [
    "Cars manufatured by 'Ford' and 'Chevrolet' are dominant in used car market. Despite both of the manufactures are American brands, Japenese cars like 'Toyota', 'Honda' and 'Nissan' still have a considerable share in the used car market. "
   ]
  },
  {
   "cell_type": "code",
   "execution_count": 42,
   "id": "84096631",
   "metadata": {},
   "outputs": [
    {
     "data": {
      "image/png": "[encoded data removed]",
      "text/plain": [
       "<Figure size 640x480 with 1 Axes>"
      ]
     },
     "metadata": {},
     "output_type": "display_data"
    }
   ],
   "source": [
    "#Identify the percentage of used car by their condition\n",
    "colors = ['#f34f1c','#01a6f0','#7fbc00','#747474', '#ffd43b','#d242ff']\n",
    "usedcars.groupby('Condition').size().plot(kind='pie', autopct='%.2f', startangle=90, colors=colors,\n",
    "                                          title='Percentage of Used Car by Condition')                                   \n",
    "plt.axis('equal')\n",
    "plt.show()"
   ]
  },
  {
   "cell_type": "markdown",
   "id": "10d6c5f9",
   "metadata": {},
   "source": [
    "Used cars with average condition, under categories 'excellent' and 'good' condition are the most popular. "
   ]
  },
  {
   "cell_type": "code",
   "execution_count": 43,
   "id": "aec52554",
   "metadata": {},
   "outputs": [
    {
     "name": "stderr",
     "output_type": "stream",
     "text": [
      "/Users/sajaythomas/miniforge3/envs/tf_m1/lib/python3.8/site-packages/seaborn/distributions.py:2619: FutureWarning: `distplot` is a deprecated function and will be removed in a future version. Please adapt your code to use either `displot` (a figure-level function with similar flexibility) or `histplot` (an axes-level function for histograms).\n",
      "  warnings.warn(msg, FutureWarning)\n"
     ]
    },
    {
     "data": {
      "text/plain": [
       "<AxesSubplot:xlabel='OdometerMileage', ylabel='Density'>"
      ]
     },
     "execution_count": 43,
     "metadata": {},
     "output_type": "execute_result"
    },
    {
     "data": {
      "image/png": "[encoded data removed]",
      "text/plain": [
       "<Figure size 640x480 with 1 Axes>"
      ]
     },
     "metadata": {},
     "output_type": "display_data"
    }
   ],
   "source": [
    "#Idnetify the distribution of odometer reading amongst used car dataset\n",
    "sns.distplot(usedcars['OdometerMileage'], hist=True, kde=True, \n",
    "             bins=int(180/5), color = 'darkblue', \n",
    "             hist_kws={'edgecolor':'black'},\n",
    "             kde_kws={'linewidth': 4})"
   ]
  },
  {
   "cell_type": "markdown",
   "id": "3812b559",
   "metadata": {},
   "source": [
    "Used cars with odometer at around 25,000 miles are the most popular. Nevertheless, there are still a large number of used cars with odometer around 100,000 miles."
   ]
  },
  {
   "cell_type": "markdown",
   "id": "021a39ca",
   "metadata": {},
   "source": [
    "### 3.3.2 Correlation Study"
   ]
  },
  {
   "cell_type": "code",
   "execution_count": 44,
   "id": "2c2b2660",
   "metadata": {
    "scrolled": true
   },
   "outputs": [
    {
     "data": {
      "image/png": "[encoded data removed]",
      "text/plain": [
       "<Figure size 500x500 with 2 Axes>"
      ]
     },
     "metadata": {},
     "output_type": "display_data"
    }
   ],
   "source": [
    "#Heatmap to identify the correlation between each variable\n",
    "f, ax = plt.subplots(figsize=(5,5))\n",
    "sns.heatmap(usedcars.corr(), vmin=-1, vmax=1,annot = True, cbar = True)\n",
    "plt.show()"
   ]
  },
  {
   "cell_type": "markdown",
   "id": "b1b843ca",
   "metadata": {},
   "source": [
    "Both registration year and odometer reading are negatively related with the used cars' selling prices."
   ]
  },
  {
   "cell_type": "markdown",
   "id": "3af3e3be",
   "metadata": {},
   "source": [
    "## 3.4 Price Trend Analysis"
   ]
  },
  {
   "cell_type": "code",
   "execution_count": 45,
   "id": "359b4a72",
   "metadata": {},
   "outputs": [
    {
     "name": "stderr",
     "output_type": "stream",
     "text": [
      "/Users/sajaythomas/miniforge3/envs/tf_m1/lib/python3.8/site-packages/seaborn/distributions.py:2619: FutureWarning: `distplot` is a deprecated function and will be removed in a future version. Please adapt your code to use either `displot` (a figure-level function with similar flexibility) or `histplot` (an axes-level function for histograms).\n",
      "  warnings.warn(msg, FutureWarning)\n"
     ]
    },
    {
     "data": {
      "text/plain": [
       "<AxesSubplot:xlabel='SellingPrice', ylabel='Density'>"
      ]
     },
     "execution_count": 45,
     "metadata": {},
     "output_type": "execute_result"
    },
    {
     "data": {
      "image/png": "[encoded data removed]",
      "text/plain": [
       "<Figure size 640x480 with 1 Axes>"
      ]
     },
     "metadata": {},
     "output_type": "display_data"
    }
   ],
   "source": [
    "#Identify the distribution of used cars' price\n",
    "sns.distplot(usedcars['SellingPrice'], hist=True, kde=True, \n",
    "             bins=int(180/5), color = 'darkblue', \n",
    "             hist_kws={'edgecolor':'white'},\n",
    "             kde_kws={'linewidth': 4})\n"
   ]
  },
  {
   "cell_type": "markdown",
   "id": "bef175b2",
   "metadata": {},
   "source": [
    "Most of the cars recorded price around $10,000."
   ]
  },
  {
   "cell_type": "code",
   "execution_count": 46,
   "id": "d85e85ff",
   "metadata": {},
   "outputs": [
    {
     "data": {
      "image/png": "[encoded data removed]",
      "text/plain": [
       "<Figure size 640x480 with 1 Axes>"
      ]
     },
     "metadata": {},
     "output_type": "display_data"
    }
   ],
   "source": [
    "#Identify the price trend over years\n",
    "sns.lineplot(data=usedcars, x=\"RegistrationYear\", y=\"SellingPrice\", color='red')\n",
    "plt.show()"
   ]
  },
  {
   "cell_type": "markdown",
   "id": "b0f69869",
   "metadata": {},
   "source": [
    "Car that registered on year older than 2010 had price around $10,000 and the used cars' price increased significantly for the cars that registered after year 2010 since the car might getting newer."
   ]
  },
  {
   "cell_type": "markdown",
   "id": "fb6bb812",
   "metadata": {},
   "source": [
    "## 3.5 Data Preprocessing\n",
    "### 3.5.1 Identifying outliers in column 'price'"
   ]
  },
  {
   "cell_type": "code",
   "execution_count": 47,
   "id": "fa17bcd8",
   "metadata": {},
   "outputs": [
    {
     "data": {
      "text/plain": [
       "<AxesSubplot:ylabel='SellingPrice'>"
      ]
     },
     "execution_count": 47,
     "metadata": {},
     "output_type": "execute_result"
    },
    {
     "data": {
      "image/png": "[encoded data removed]",
      "text/plain": [
       "<Figure size 640x480 with 1 Axes>"
      ]
     },
     "metadata": {},
     "output_type": "display_data"
    }
   ],
   "source": [
    "#Boxplot to determine the outliers in used car's price \n",
    "sns.boxplot(y=usedcars['SellingPrice'])"
   ]
  },
  {
   "cell_type": "code",
   "execution_count": 48,
   "id": "a4bb07f4",
   "metadata": {},
   "outputs": [
    {
     "data": {
      "image/png": "[encoded data removed]",
      "text/plain": [
       "<Figure size 1600x800 with 1 Axes>"
      ]
     },
     "metadata": {},
     "output_type": "display_data"
    }
   ],
   "source": [
    "#Scatterplot to identify outliers in used car price based on the year of registration\n",
    "fig, ax = plt.subplots(figsize=(16,8))\n",
    "ax.scatter(usedcars['RegistrationYear'], usedcars['SellingPrice'])\n",
    "ax.set_xlabel('Year of registration')\n",
    "ax.set_ylabel('Price of used car')\n",
    "plt.show()"
   ]
  },
  {
   "cell_type": "code",
   "execution_count": 49,
   "id": "fbd1cb3b",
   "metadata": {},
   "outputs": [
    {
     "data": {
      "text/html": [
       "<div>\n",
       "<style scoped>\n",
       "    .dataframe tbody tr th:only-of-type {\n",
       "        vertical-align: middle;\n",
       "    }\n",
       "\n",
       "    .dataframe tbody tr th {\n",
       "        vertical-align: top;\n",
       "    }\n",
       "\n",
       "    .dataframe thead th {\n",
       "        text-align: right;\n",
       "    }\n",
       "</style>\n",
       "<table border=\"1\" class=\"dataframe\">\n",
       "  <thead>\n",
       "    <tr style=\"text-align: right;\">\n",
       "      <th></th>\n",
       "      <th>SellingPrice</th>\n",
       "      <th>RegistrationYear</th>\n",
       "      <th>OdometerMileage</th>\n",
       "    </tr>\n",
       "  </thead>\n",
       "  <tbody>\n",
       "    <tr>\n",
       "      <th>count</th>\n",
       "      <td>359872.000000</td>\n",
       "      <td>359872.000000</td>\n",
       "      <td>359872.000000</td>\n",
       "    </tr>\n",
       "    <tr>\n",
       "      <th>mean</th>\n",
       "      <td>19421.940145</td>\n",
       "      <td>2012.188809</td>\n",
       "      <td>93562.367206</td>\n",
       "    </tr>\n",
       "    <tr>\n",
       "      <th>std</th>\n",
       "      <td>14145.447329</td>\n",
       "      <td>6.015502</td>\n",
       "      <td>61276.244779</td>\n",
       "    </tr>\n",
       "    <tr>\n",
       "      <th>min</th>\n",
       "      <td>1003.000000</td>\n",
       "      <td>1986.000000</td>\n",
       "      <td>101.000000</td>\n",
       "    </tr>\n",
       "    <tr>\n",
       "      <th>25%</th>\n",
       "      <td>7995.000000</td>\n",
       "      <td>2009.000000</td>\n",
       "      <td>40023.000000</td>\n",
       "    </tr>\n",
       "    <tr>\n",
       "      <th>50%</th>\n",
       "      <td>15995.000000</td>\n",
       "      <td>2013.000000</td>\n",
       "      <td>89200.000000</td>\n",
       "    </tr>\n",
       "    <tr>\n",
       "      <th>75%</th>\n",
       "      <td>27990.000000</td>\n",
       "      <td>2017.000000</td>\n",
       "      <td>136529.000000</td>\n",
       "    </tr>\n",
       "    <tr>\n",
       "      <th>max</th>\n",
       "      <td>99999.000000</td>\n",
       "      <td>2022.000000</td>\n",
       "      <td>299999.000000</td>\n",
       "    </tr>\n",
       "  </tbody>\n",
       "</table>\n",
       "</div>"
      ],
      "text/plain": [
       "        SellingPrice  RegistrationYear  OdometerMileage\n",
       "count  359872.000000     359872.000000    359872.000000\n",
       "mean    19421.940145       2012.188809     93562.367206\n",
       "std     14145.447329          6.015502     61276.244779\n",
       "min      1003.000000       1986.000000       101.000000\n",
       "25%      7995.000000       2009.000000     40023.000000\n",
       "50%     15995.000000       2013.000000     89200.000000\n",
       "75%     27990.000000       2017.000000    136529.000000\n",
       "max     99999.000000       2022.000000    299999.000000"
      ]
     },
     "execution_count": 49,
     "metadata": {},
     "output_type": "execute_result"
    }
   ],
   "source": [
    "#Statistically describe the data for outlier removal\n",
    "usedcars.describe()"
   ]
  },
  {
   "cell_type": "code",
   "execution_count": 50,
   "id": "50e3ff99",
   "metadata": {},
   "outputs": [],
   "source": [
    "#Filtering outliers of used car price based on value of third quartile\n",
    "usedcars_filtered = usedcars[usedcars['SellingPrice'] <= 27990]"
   ]
  },
  {
   "cell_type": "code",
   "execution_count": 51,
   "id": "173efa97",
   "metadata": {},
   "outputs": [
    {
     "data": {
      "text/plain": [
       "<AxesSubplot:ylabel='SellingPrice'>"
      ]
     },
     "execution_count": 51,
     "metadata": {},
     "output_type": "execute_result"
    },
    {
     "data": {
      "image/png": "[encoded data removed]",
      "text/plain": [
       "<Figure size 640x480 with 1 Axes>"
      ]
     },
     "metadata": {},
     "output_type": "display_data"
    }
   ],
   "source": [
    "#Checking the existence of outlier using boxplot\n",
    "sns.boxplot(y=usedcars_filtered['SellingPrice'])"
   ]
  },
  {
   "cell_type": "code",
   "execution_count": 52,
   "id": "a47b9aa6",
   "metadata": {},
   "outputs": [
    {
     "data": {
      "text/html": [
       "<div>\n",
       "<style scoped>\n",
       "    .dataframe tbody tr th:only-of-type {\n",
       "        vertical-align: middle;\n",
       "    }\n",
       "\n",
       "    .dataframe tbody tr th {\n",
       "        vertical-align: top;\n",
       "    }\n",
       "\n",
       "    .dataframe thead th {\n",
       "        text-align: right;\n",
       "    }\n",
       "</style>\n",
       "<table border=\"1\" class=\"dataframe\">\n",
       "  <thead>\n",
       "    <tr style=\"text-align: right;\">\n",
       "      <th></th>\n",
       "      <th>SellingPrice</th>\n",
       "      <th>RegistrationYear</th>\n",
       "      <th>Manufacturer</th>\n",
       "      <th>Model</th>\n",
       "      <th>Condition</th>\n",
       "      <th>CylindersNumber</th>\n",
       "      <th>FuelType</th>\n",
       "      <th>OdometerMileage</th>\n",
       "      <th>TitleStatus</th>\n",
       "      <th>TransmissionType</th>\n",
       "      <th>DriveType</th>\n",
       "      <th>Size</th>\n",
       "      <th>CarType</th>\n",
       "      <th>PaintColor</th>\n",
       "    </tr>\n",
       "  </thead>\n",
       "  <tbody>\n",
       "    <tr>\n",
       "      <th>31</th>\n",
       "      <td>15000</td>\n",
       "      <td>2013.0</td>\n",
       "      <td>ford</td>\n",
       "      <td>f-150 xlt</td>\n",
       "      <td>excellent</td>\n",
       "      <td>6 cylinders</td>\n",
       "      <td>gas</td>\n",
       "      <td>128000.0</td>\n",
       "      <td>clean</td>\n",
       "      <td>automatic</td>\n",
       "      <td>rwd</td>\n",
       "      <td>full-size</td>\n",
       "      <td>truck</td>\n",
       "      <td>black</td>\n",
       "    </tr>\n",
       "    <tr>\n",
       "      <th>32</th>\n",
       "      <td>27990</td>\n",
       "      <td>2012.0</td>\n",
       "      <td>gmc</td>\n",
       "      <td>sierra 2500 hd extended cab</td>\n",
       "      <td>good</td>\n",
       "      <td>8 cylinders</td>\n",
       "      <td>gas</td>\n",
       "      <td>68696.0</td>\n",
       "      <td>clean</td>\n",
       "      <td>other</td>\n",
       "      <td>4wd</td>\n",
       "      <td>full-size</td>\n",
       "      <td>pickup</td>\n",
       "      <td>black</td>\n",
       "    </tr>\n",
       "    <tr>\n",
       "      <th>37</th>\n",
       "      <td>4500</td>\n",
       "      <td>1992.0</td>\n",
       "      <td>jeep</td>\n",
       "      <td>cherokee</td>\n",
       "      <td>excellent</td>\n",
       "      <td>6 cylinders</td>\n",
       "      <td>gas</td>\n",
       "      <td>192000.0</td>\n",
       "      <td>clean</td>\n",
       "      <td>automatic</td>\n",
       "      <td>4wd</td>\n",
       "      <td>full-size</td>\n",
       "      <td>other</td>\n",
       "      <td>red</td>\n",
       "    </tr>\n",
       "    <tr>\n",
       "      <th>39</th>\n",
       "      <td>24590</td>\n",
       "      <td>2017.0</td>\n",
       "      <td>chevrolet</td>\n",
       "      <td>silverado 1500 regular</td>\n",
       "      <td>good</td>\n",
       "      <td>6 cylinders</td>\n",
       "      <td>gas</td>\n",
       "      <td>40784.0</td>\n",
       "      <td>clean</td>\n",
       "      <td>other</td>\n",
       "      <td>4wd</td>\n",
       "      <td>full-size</td>\n",
       "      <td>pickup</td>\n",
       "      <td>white</td>\n",
       "    </tr>\n",
       "    <tr>\n",
       "      <th>41</th>\n",
       "      <td>27990</td>\n",
       "      <td>2014.0</td>\n",
       "      <td>toyota</td>\n",
       "      <td>tacoma access cab pickup</td>\n",
       "      <td>good</td>\n",
       "      <td>6 cylinders</td>\n",
       "      <td>other</td>\n",
       "      <td>17805.0</td>\n",
       "      <td>clean</td>\n",
       "      <td>other</td>\n",
       "      <td>4wd</td>\n",
       "      <td>full-size</td>\n",
       "      <td>pickup</td>\n",
       "      <td>red</td>\n",
       "    </tr>\n",
       "    <tr>\n",
       "      <th>...</th>\n",
       "      <td>...</td>\n",
       "      <td>...</td>\n",
       "      <td>...</td>\n",
       "      <td>...</td>\n",
       "      <td>...</td>\n",
       "      <td>...</td>\n",
       "      <td>...</td>\n",
       "      <td>...</td>\n",
       "      <td>...</td>\n",
       "      <td>...</td>\n",
       "      <td>...</td>\n",
       "      <td>...</td>\n",
       "      <td>...</td>\n",
       "      <td>...</td>\n",
       "    </tr>\n",
       "    <tr>\n",
       "      <th>426863</th>\n",
       "      <td>25590</td>\n",
       "      <td>2017.0</td>\n",
       "      <td>alfa-romeo</td>\n",
       "      <td>Genesis G80 3.8 Sedan 4D</td>\n",
       "      <td>good</td>\n",
       "      <td>6 cylinders</td>\n",
       "      <td>gas</td>\n",
       "      <td>37608.0</td>\n",
       "      <td>clean</td>\n",
       "      <td>automatic</td>\n",
       "      <td>rwd</td>\n",
       "      <td>compact</td>\n",
       "      <td>sedan</td>\n",
       "      <td>white</td>\n",
       "    </tr>\n",
       "    <tr>\n",
       "      <th>426869</th>\n",
       "      <td>13990</td>\n",
       "      <td>2016.0</td>\n",
       "      <td>jaguar</td>\n",
       "      <td>Scion iM Hatchback 4D</td>\n",
       "      <td>good</td>\n",
       "      <td>8 cylinders</td>\n",
       "      <td>other</td>\n",
       "      <td>75626.0</td>\n",
       "      <td>clean</td>\n",
       "      <td>other</td>\n",
       "      <td>fwd</td>\n",
       "      <td>compact</td>\n",
       "      <td>hatchback</td>\n",
       "      <td>white</td>\n",
       "    </tr>\n",
       "    <tr>\n",
       "      <th>426870</th>\n",
       "      <td>22990</td>\n",
       "      <td>2020.0</td>\n",
       "      <td>hyundai</td>\n",
       "      <td>sonata se sedan 4d</td>\n",
       "      <td>good</td>\n",
       "      <td>8 cylinders</td>\n",
       "      <td>gas</td>\n",
       "      <td>3066.0</td>\n",
       "      <td>clean</td>\n",
       "      <td>other</td>\n",
       "      <td>fwd</td>\n",
       "      <td>compact</td>\n",
       "      <td>sedan</td>\n",
       "      <td>blue</td>\n",
       "    </tr>\n",
       "    <tr>\n",
       "      <th>426871</th>\n",
       "      <td>17990</td>\n",
       "      <td>2018.0</td>\n",
       "      <td>kia</td>\n",
       "      <td>sportage lx sport utility 4d</td>\n",
       "      <td>good</td>\n",
       "      <td>8 cylinders</td>\n",
       "      <td>gas</td>\n",
       "      <td>34239.0</td>\n",
       "      <td>clean</td>\n",
       "      <td>other</td>\n",
       "      <td>fwd</td>\n",
       "      <td>compact</td>\n",
       "      <td>SUV</td>\n",
       "      <td>blue</td>\n",
       "    </tr>\n",
       "    <tr>\n",
       "      <th>426875</th>\n",
       "      <td>23590</td>\n",
       "      <td>2019.0</td>\n",
       "      <td>nissan</td>\n",
       "      <td>maxima s sedan 4d</td>\n",
       "      <td>good</td>\n",
       "      <td>6 cylinders</td>\n",
       "      <td>gas</td>\n",
       "      <td>32226.0</td>\n",
       "      <td>clean</td>\n",
       "      <td>other</td>\n",
       "      <td>fwd</td>\n",
       "      <td>compact</td>\n",
       "      <td>sedan</td>\n",
       "      <td>white</td>\n",
       "    </tr>\n",
       "  </tbody>\n",
       "</table>\n",
       "<p>270267 rows × 14 columns</p>\n",
       "</div>"
      ],
      "text/plain": [
       "        SellingPrice  RegistrationYear Manufacturer  \\\n",
       "31             15000            2013.0         ford   \n",
       "32             27990            2012.0          gmc   \n",
       "37              4500            1992.0         jeep   \n",
       "39             24590            2017.0    chevrolet   \n",
       "41             27990            2014.0       toyota   \n",
       "...              ...               ...          ...   \n",
       "426863         25590            2017.0   alfa-romeo   \n",
       "426869         13990            2016.0       jaguar   \n",
       "426870         22990            2020.0      hyundai   \n",
       "426871         17990            2018.0          kia   \n",
       "426875         23590            2019.0       nissan   \n",
       "\n",
       "                               Model  Condition CylindersNumber FuelType  \\\n",
       "31                         f-150 xlt  excellent     6 cylinders      gas   \n",
       "32       sierra 2500 hd extended cab       good     8 cylinders      gas   \n",
       "37                          cherokee  excellent     6 cylinders      gas   \n",
       "39            silverado 1500 regular       good     6 cylinders      gas   \n",
       "41          tacoma access cab pickup       good     6 cylinders    other   \n",
       "...                              ...        ...             ...      ...   \n",
       "426863      Genesis G80 3.8 Sedan 4D       good     6 cylinders      gas   \n",
       "426869         Scion iM Hatchback 4D       good     8 cylinders    other   \n",
       "426870            sonata se sedan 4d       good     8 cylinders      gas   \n",
       "426871  sportage lx sport utility 4d       good     8 cylinders      gas   \n",
       "426875             maxima s sedan 4d       good     6 cylinders      gas   \n",
       "\n",
       "        OdometerMileage TitleStatus TransmissionType DriveType       Size  \\\n",
       "31             128000.0       clean        automatic       rwd  full-size   \n",
       "32              68696.0       clean            other       4wd  full-size   \n",
       "37             192000.0       clean        automatic       4wd  full-size   \n",
       "39              40784.0       clean            other       4wd  full-size   \n",
       "41              17805.0       clean            other       4wd  full-size   \n",
       "...                 ...         ...              ...       ...        ...   \n",
       "426863          37608.0       clean        automatic       rwd    compact   \n",
       "426869          75626.0       clean            other       fwd    compact   \n",
       "426870           3066.0       clean            other       fwd    compact   \n",
       "426871          34239.0       clean            other       fwd    compact   \n",
       "426875          32226.0       clean            other       fwd    compact   \n",
       "\n",
       "          CarType PaintColor  \n",
       "31          truck      black  \n",
       "32         pickup      black  \n",
       "37          other        red  \n",
       "39         pickup      white  \n",
       "41         pickup        red  \n",
       "...           ...        ...  \n",
       "426863      sedan      white  \n",
       "426869  hatchback      white  \n",
       "426870      sedan       blue  \n",
       "426871        SUV       blue  \n",
       "426875      sedan      white  \n",
       "\n",
       "[270267 rows x 14 columns]"
      ]
     },
     "execution_count": 52,
     "metadata": {},
     "output_type": "execute_result"
    }
   ],
   "source": [
    "#Showing dataset without outliers of used car's price\n",
    "usedcars_filtered"
   ]
  },
  {
   "cell_type": "markdown",
   "id": "99b39e9a",
   "metadata": {},
   "source": [
    "## 3.6 Data Preparation\n",
    "### 3.6.1 Label Encoding"
   ]
  },
  {
   "cell_type": "code",
   "execution_count": 53,
   "id": "e598bce3",
   "metadata": {},
   "outputs": [
    {
     "name": "stderr",
     "output_type": "stream",
     "text": [
      "/Users/sajaythomas/miniforge3/envs/tf_m1/lib/python3.8/site-packages/pandas/core/frame.py:3191: SettingWithCopyWarning: \n",
      "A value is trying to be set on a copy of a slice from a DataFrame.\n",
      "Try using .loc[row_indexer,col_indexer] = value instead\n",
      "\n",
      "See the caveats in the documentation: https://pandas.pydata.org/pandas-docs/stable/user_guide/indexing.html#returning-a-view-versus-a-copy\n",
      "  self[k1] = value[k2]\n"
     ]
    }
   ],
   "source": [
    "from sklearn import preprocessing\n",
    "import pandas as pd\n",
    "le = preprocessing.LabelEncoder()\n",
    "\n",
    "\n",
    "#df[['manufacturer', 'make', 'condition', 'cylinders','fuel','title_status', 'transmission','drive','size','type','paint_color']] = df[['manufacturer', 'make', 'condition','cylinders', 'fuel','title_status', 'transmission','drive','size','type','paint_color']].apply(le.fit_transform)\n",
    "\n",
    "usedcars_filtered[['Manufacturer', 'Model', 'Condition', 'CylindersNumber', 'FuelType', 'TitleStatus', 'TransmissionType', 'DriveType', 'Size', 'CarType', 'PaintColor']] = usedcars_filtered[['Manufacturer', 'Model', 'Condition', 'CylindersNumber', 'FuelType', 'TitleStatus', 'TransmissionType', 'DriveType', 'Size', 'CarType', 'PaintColor']].apply(le.fit_transform)\n"
   ]
  },
  {
   "cell_type": "markdown",
   "id": "3bd66ea7",
   "metadata": {},
   "source": [
    "Get a LabelEncoder through skLearn, and then train a LabelEncoder. Finally, the trained LabelEncoder is used to encode the original data - df"
   ]
  },
  {
   "cell_type": "markdown",
   "id": "c8a56234",
   "metadata": {},
   "source": [
    "### 3.6.2 Split into training and testing set"
   ]
  },
  {
   "cell_type": "code",
   "execution_count": 64,
   "id": "06004055",
   "metadata": {},
   "outputs": [
    {
     "name": "stdout",
     "output_type": "stream",
     "text": [
      "(216213, 13) (216213,)\n",
      "(54054, 13) (54054,)\n"
     ]
    }
   ],
   "source": [
    "from sklearn import datasets, linear_model\n",
    "from sklearn.model_selection import train_test_split\n",
    "\n",
    "y = usedcars_filtered.SellingPrice\n",
    "x = usedcars_filtered.drop('SellingPrice',axis=1)\n",
    "\n",
    "x_train, x_test, y_train, y_test = train_test_split(x, y, test_size=0.2, random_state=42)\n",
    "\n",
    "print (x_train.shape, y_train.shape)\n",
    "print (x_test.shape, y_test.shape)"
   ]
  },
  {
   "cell_type": "markdown",
   "id": "00c87366",
   "metadata": {},
   "source": [
    "Set the Y-axis to the price of all used cars, and the X-axis to the price of screened used cars.Take the X and y train and test sets accordingly.The training set was responsible for 80% of the complete data set, whereas the test set was responsible for 20% of the total data set.Set the amount of random seeds to 42 to ensure that the data is chosen at random every time."
   ]
  },
  {
   "cell_type": "markdown",
   "id": "2caa5f90",
   "metadata": {},
   "source": [
    "### 3.6.3 Min Max Scaler"
   ]
  },
  {
   "cell_type": "code",
   "execution_count": 65,
   "id": "44235da4",
   "metadata": {},
   "outputs": [],
   "source": [
    "from sklearn.preprocessing import MinMaxScaler\n",
    "\n",
    "mmsc = MinMaxScaler()   \n",
    "x_train= mmsc.fit_transform(x_train)\n",
    "x_test= mmsc.transform(x_test)"
   ]
  },
  {
   "cell_type": "markdown",
   "id": "ad8d5998",
   "metadata": {},
   "source": [
    "In terms of normalization of data, the data was tried with feature scaling where Gokce (2020) found that it is inappropriate for this data as it assumed that the data is normally distributed within each feature which is not happening in our dataset. Thus, min-max scaler was used in this study to normalize the data.\n",
    "\n",
    "First initialize an object of MinMaxScaler and second fit the transform data. The essence is to find the maximum and minimum values and then calculate the data against the formula scaler.fit_transform()."
   ]
  },
  {
   "cell_type": "markdown",
   "id": "65eeefa3",
   "metadata": {},
   "source": [
    "## 4.0 Results & Discussion\n",
    "\n",
    "## 4.1 Modelling\n",
    "\n",
    "In this chapter, a total of six (6) models, namely Random Forest, Linear Regression, Ridge Regression, Lasso Regression, K-nearest neighbor and Extreme Gradient Boosting algorithms were developed. The performance of each model are evaluated via RMSE, MSE and MAE.\n",
    "\n",
    "### 4.1.1 Random Forest"
   ]
  },
  {
   "cell_type": "code",
   "execution_count": 66,
   "id": "3ee8f142",
   "metadata": {},
   "outputs": [],
   "source": [
    "from sklearn.ensemble import RandomForestRegressor\n",
    "\n",
    "rfreg = RandomForestRegressor(n_estimators=30, random_state=24)\n",
    "rfreg.fit(x_train, y_train)\n",
    "y_pred = rfreg.predict(x_test)"
   ]
  },
  {
   "cell_type": "markdown",
   "id": "155df18e",
   "metadata": {},
   "source": [
    "Training random forest model. Firstly, set the number of decision trees to 30 to achieve acceptable performance and error rate. Next, set the number of random seeds to 24 so that each random selection is fixed. Direct prediction gives the prediction results of X_test the highest selection model based on the probability results."
   ]
  },
  {
   "cell_type": "code",
   "execution_count": 67,
   "id": "f0337437",
   "metadata": {},
   "outputs": [
    {
     "name": "stdout",
     "output_type": "stream",
     "text": [
      "Random Forest:\n",
      "MAE: 1770.08\n",
      "MSE: 8329492.23\n",
      "RMSE: 2886.09\n"
     ]
    }
   ],
   "source": [
    "from sklearn import metrics\n",
    "from sklearn.metrics import mean_squared_error\n",
    "print('Random Forest:')\n",
    "print('MAE:', round(metrics.mean_absolute_error(y_test, y_pred),2))\n",
    "print('MSE:', round(metrics.mean_squared_error(y_test, y_pred),2))\n",
    "print('RMSE:', round(np.sqrt(metrics.mean_squared_error(y_test, y_pred)),2))"
   ]
  },
  {
   "cell_type": "markdown",
   "id": "30459380",
   "metadata": {},
   "source": [
    "Import metrics what means the evaluation indicator function to get MAE, MSE, and RMSE values."
   ]
  },
  {
   "cell_type": "markdown",
   "id": "5d5081ba",
   "metadata": {},
   "source": [
    "### 4.1.2 Linear Regression"
   ]
  },
  {
   "cell_type": "code",
   "execution_count": 68,
   "id": "459b8944",
   "metadata": {},
   "outputs": [
    {
     "name": "stdout",
     "output_type": "stream",
     "text": [
      "Linear Regression:\n",
      "MAE: 4122.12\n",
      "MSE: 27442865.52\n",
      "RMSE: 5238.59\n"
     ]
    }
   ],
   "source": [
    "from sklearn.linear_model import LinearRegression, Ridge\n",
    "from sklearn.metrics import mean_squared_error as mse\n",
    "\n",
    "linreg = LinearRegression()\n",
    "linreg.fit(x_train, y_train)\n",
    "y_pred_linreg= linreg.predict(x_test)\n",
    "\n",
    "print('Linear Regression:')\n",
    "print('MAE:', round(metrics.mean_absolute_error(y_test, y_pred_linreg),2))\n",
    "print('MSE:', round(metrics.mean_squared_error(y_test, y_pred_linreg),2))\n",
    "print('RMSE:', round(np.sqrt(metrics.mean_squared_error(y_test, y_pred_linreg)),2))"
   ]
  },
  {
   "cell_type": "markdown",
   "id": "b9bddcd5",
   "metadata": {},
   "source": [
    "Import metrics as the evaluation indicator function to obtain MAE, MSE, and RMSE values."
   ]
  },
  {
   "cell_type": "markdown",
   "id": "cb6790d8",
   "metadata": {},
   "source": [
    "### 4.1.3 Ridge Regression"
   ]
  },
  {
   "cell_type": "code",
   "execution_count": 69,
   "id": "6df32797",
   "metadata": {},
   "outputs": [
    {
     "name": "stdout",
     "output_type": "stream",
     "text": [
      "Ridge Regression:\n",
      "MAE: 4122.17\n",
      "MSE: 27442887.41\n",
      "RMSE: 5238.6\n"
     ]
    }
   ],
   "source": [
    "ridgereg = Ridge()\n",
    "ridgereg.fit(x_train, y_train)\n",
    "y_pred_ridgereg = ridgereg.predict(x_test)\n",
    "\n",
    "print('Ridge Regression:')\n",
    "print('MAE:', round(metrics.mean_absolute_error(y_test, y_pred_ridgereg),2))\n",
    "print('MSE:', round(metrics.mean_squared_error(y_test, y_pred_ridgereg),2))\n",
    "print('RMSE:', round(np.sqrt(metrics.mean_squared_error(y_test, y_pred_ridgereg)),2))"
   ]
  },
  {
   "cell_type": "markdown",
   "id": "e3aaa8e0",
   "metadata": {},
   "source": [
    "Import and create linear regression model. Train the model and test its performance using testing set. RMSE value is obtained through MSE value."
   ]
  },
  {
   "cell_type": "markdown",
   "id": "2a964a4f",
   "metadata": {},
   "source": [
    "### 4.1.4 Lasso Regression"
   ]
  },
  {
   "cell_type": "code",
   "execution_count": 70,
   "id": "2ab68b8c",
   "metadata": {},
   "outputs": [
    {
     "name": "stdout",
     "output_type": "stream",
     "text": [
      "Lasso Regression:\n",
      "MAE: 4123.13\n",
      "MSE: 27443161.92\n",
      "RMSE: 5238.62\n"
     ]
    }
   ],
   "source": [
    "from sklearn.linear_model import Lasso\n",
    "\n",
    "lassoreg = Lasso()\n",
    "lassoreg.fit(x_train,y_train)\n",
    "y_pred_lassoreg = lassoreg.predict(x_test)\n",
    "\n",
    "print('Lasso Regression:')\n",
    "print('MAE:', round(metrics.mean_absolute_error(y_test, y_pred_lassoreg),2))\n",
    "print('MSE:', round(metrics.mean_squared_error(y_test, y_pred_lassoreg),2))\n",
    "print('RMSE:', round(np.sqrt(metrics.mean_squared_error(y_test, y_pred_lassoreg)),2))"
   ]
  },
  {
   "cell_type": "markdown",
   "id": "feffcdde",
   "metadata": {},
   "source": [
    "Import model Lasso Regression. This model can reduce the deviation and improve the accuracy of linear regression model. The model is trained by training set and tested on testing test. RMSE value is obtained through MSE value."
   ]
  },
  {
   "cell_type": "markdown",
   "id": "c4d7be3a",
   "metadata": {},
   "source": [
    "### 4.1.5 KNN"
   ]
  },
  {
   "cell_type": "code",
   "execution_count": 71,
   "id": "44127fe0",
   "metadata": {},
   "outputs": [],
   "source": [
    "from sklearn.neighbors import KNeighborsRegressor\n",
    "from sklearn.metrics import pairwise_distances\n",
    "from sklearn import neighbors"
   ]
  },
  {
   "cell_type": "markdown",
   "id": "7de1c09c",
   "metadata": {},
   "source": [
    "Regression training and prediction were performed using KNeighbors Regressor.\n",
    "Compute matrix distance.\n",
    "The K nearest neighbor algorithm is imported."
   ]
  },
  {
   "cell_type": "code",
   "execution_count": 72,
   "id": "d1e16fb0",
   "metadata": {},
   "outputs": [
    {
     "data": {
      "text/plain": [
       "KNeighborsRegressor()"
      ]
     },
     "execution_count": 72,
     "metadata": {},
     "output_type": "execute_result"
    }
   ],
   "source": [
    "classifier = KNeighborsRegressor(n_neighbors=5)\n",
    "classifier.fit(x_train, y_train)"
   ]
  },
  {
   "cell_type": "markdown",
   "id": "09cb1672",
   "metadata": {},
   "source": [
    "The number of nearest data points selected for category prediction is set to 5 as default.\n",
    "If the setting is too large, some extreme samples will be easily included. Whereas if the setting is too small, noise wil affect the results."
   ]
  },
  {
   "cell_type": "code",
   "execution_count": 73,
   "id": "767a2d8c",
   "metadata": {},
   "outputs": [],
   "source": [
    "y_pred = classifier.predict(x_test)"
   ]
  },
  {
   "cell_type": "code",
   "execution_count": 75,
   "id": "907d0e1c",
   "metadata": {},
   "outputs": [
    {
     "name": "stdout",
     "output_type": "stream",
     "text": [
      "KNN:\n",
      "MAE: 2972.75\n",
      "MSE: 18073730.14\n",
      "RMSE: 4251.32\n"
     ]
    }
   ],
   "source": [
    "print('KNN:')\n",
    "print('MAE:', round(metrics.mean_absolute_error(y_test, y_pred),2))\n",
    "print('MSE:', round(metrics.mean_squared_error(y_test, y_pred),2))\n",
    "print('RMSE:', round(np.sqrt(metrics.mean_squared_error(y_test, y_pred)),2))"
   ]
  },
  {
   "cell_type": "markdown",
   "id": "a3767a23",
   "metadata": {},
   "source": [
    "Obtain the values of MAE,MSE and RMSE."
   ]
  },
  {
   "cell_type": "markdown",
   "id": "f6c8bc11",
   "metadata": {},
   "source": [
    "### 4.1.6 XGBoost"
   ]
  },
  {
   "cell_type": "code",
   "execution_count": 76,
   "id": "a6e4c6ce",
   "metadata": {},
   "outputs": [],
   "source": [
    "import xgboost as xgb"
   ]
  },
  {
   "cell_type": "code",
   "execution_count": 78,
   "id": "2900fa2d",
   "metadata": {},
   "outputs": [
    {
     "name": "stdout",
     "output_type": "stream",
     "text": [
      "[15:11:43] WARNING: /Users/runner/miniforge3/conda-bld/xgboost-split_1637426411619/work/src/objective/regression_obj.cu:188: reg:linear is now deprecated in favor of reg:squarederror.\n",
      "XGBoost:\n",
      "MAE: 5678.5\n",
      "MSE: 55397445.62\n",
      "RMSE: 7442.95\n"
     ]
    }
   ],
   "source": [
    "xgbreg = xgb.XGBRegressor(objective ='reg:linear', colsample_bytree = 0.3, learning_rate = 0.1,\n",
    "                max_depth = 5, alpha = 10, n_estimators = 10)\n",
    "\n",
    "xgbreg.fit(x_train,y_train)\n",
    "xgb_pred = xgbreg.predict(x_test)\n",
    "\n",
    "print('XGBoost:')\n",
    "print('MAE:', round(metrics.mean_absolute_error(y_test, xgb_pred),2))\n",
    "print('MSE:', round(metrics.mean_squared_error(y_test, xgb_pred),2))\n",
    "print('RMSE:', round(np.sqrt(metrics.mean_squared_error(y_test, xgb_pred)),2))"
   ]
  },
  {
   "cell_type": "markdown",
   "id": "106bc1ee",
   "metadata": {},
   "source": [
    "'reg:linear' is based on linear model by default. colsample_bytree is used to set the proportion of random sampling of the features. learning_rate is the step size of each iteration. Specificly set the depth to 5 to control overfitting. The alpha value is similar as Lasso regression. n_estimators controls the maximum number of iterations. Finally, the RMSE value is obtained through modeling prediction."
   ]
  },
  {
   "cell_type": "markdown",
   "id": "db541a75",
   "metadata": {},
   "source": [
    "### 4.1.7 Comparison of Various Modelling\n",
    "\n",
    "The table below shows the conparsion of various modelling in detail information with the respective performance in terms of RMSE, MSE and MAE.\n",
    "\n",
    "<table>\n",
    "   <thead>\n",
    "      <tr>\n",
    "          <th>No.</th>\n",
    "          <th>Model</th>\n",
    "          <th>Description</th>\n",
    "          <th>MAE</th>\n",
    "          <th>MSE</th>\n",
    "          <th>RMSE</th>\n",
    "       </tr>\n",
    "   </thead>\n",
    "   <tbody>\n",
    "      <tr>\n",
    "          <td>1</td>\n",
    "          <td>Random Forest</td>\n",
    "          <td>Random forest is a decision tree-based approach for modeling predictions and behavior analysis. It comprises a number of decision trees, each of which represents a unique categorization of data fed into the random forest.</td>\n",
    "          <td> 1770.08 </td>\n",
    "          <td> 8329492.23 </td>\n",
    "          <td> 2886.09 </td>\n",
    "       </tr>\n",
    "       <tr>\n",
    "           <td>2</td>\n",
    "           <td>Linear Regression</td>\n",
    "           <td>A linear regression model that examines the connection between a response variable (commonly referred to as y) and one or more factors, as well as their interactions (often called x or explanatory variables).</td>\n",
    "           <td> 4122.12 </td>\n",
    "           <td> 27442865.52 </td>\n",
    "           <td> 5238.59 </td>\n",
    "       </tr>\n",
    "       <tr>\n",
    "           <td>3</td>\n",
    "           <td>Ridge Regression</td>\n",
    "           <td>Ridge Regression is a variant of the well-known linear regression method. Regular linear regression is improved by significantly altering the cost function, resulting in less overfit models.</td>\n",
    "           <td> 4122.17 </td>\n",
    "           <td> 27442887.41 </td>\n",
    "           <td> 5238.60 </td>\n",
    "       </tr>\n",
    "       <tr>\n",
    "           <td>4</td>\n",
    "           <td>Lasso Regression</td>\n",
    "           <td>Lasso regression technique is a variation of the commonly used linear regression algorithm. It improves normal linear regression by significantly altering its cost function, resulting in models that are less overfit.</td>\n",
    "           <td> 4123.13 </td>\n",
    "           <td> 27443161.92 </td>\n",
    "           <td> 5238.62 </td>\n",
    "       </tr>\n",
    "       <tr>\n",
    "           <td>5</td>\n",
    "           <td>KNN</td>\n",
    "           <td>Based on the distance measure, the k training samples closest to the training set were determined, and the prediction was produced using the information of the K \"neighbors\".</td>\n",
    "           <td> 2972.73 </td>\n",
    "           <td> 18073859.69 </td>\n",
    "           <td> 4251.34 </td>\n",
    "       </tr>\n",
    "       <tr>\n",
    "           <td>6</td>\n",
    "           <td>XGBoost</td>\n",
    "           <td>Performance of the XGBoost Model On classification and regression predictive modeling issues, XGBoost dominates structured or tabular datasets.</td>\n",
    "           <td> 5678.50 </td>\n",
    "           <td> 55397445.62 </td>\n",
    "           <td> 7442.95 </td>\n",
    "       </tr>\n",
    "    </tbody>\n",
    "           \n",
    "           \n",
    "\n",
    "          \n",
    "          \n",
    "          "
   ]
  },
  {
   "cell_type": "markdown",
   "id": "14a377cd",
   "metadata": {},
   "source": [
    "By comparing all these six models, it shows that Random Forest recorded the lowest MAE, MSE and RMSE values which are 1770.08, 8329492.23 and 2886.09 respectively. Hence, Random Forest is choose as the best prediction model for further study."
   ]
  },
  {
   "cell_type": "markdown",
   "id": "d145ed6e",
   "metadata": {},
   "source": [
    "## 4.2 Hyperparameter Tuning\n",
    "\n",
    "Since Random Forest achieved the lowest RMSE of 2886.09 among all the tested models, it is further used for hyperparameter tuning to improvise the performance of Random Forest."
   ]
  },
  {
   "cell_type": "markdown",
   "id": "df633c7c",
   "metadata": {},
   "source": [
    "### 4.2.1 Randomized Search CV"
   ]
  },
  {
   "cell_type": "code",
   "execution_count": 73,
   "id": "6d75ee86",
   "metadata": {},
   "outputs": [],
   "source": [
    "# Setting the parameters\n",
    "n_estimators = [30,130,230,330] # number of trees in the random forest\n",
    "max_depth = [int(x) for x in np.linspace(10, 120, num = 12)] # maximum number of levels allowed in each decision tree\n",
    "min_samples_split = [2, 6, 10] # minimum sample number to split a node\n",
    "min_samples_leaf = [1, 3, 4] # minimum sample number that can be stored in a leaf node\n",
    "bootstrap = [True, False] # method used to sample data points\n",
    "\n",
    "random_grid = {'n_estimators': n_estimators,\n",
    "               'max_depth': max_depth,\n",
    "               'min_samples_split': min_samples_split,\n",
    "               'min_samples_leaf': min_samples_leaf,\n",
    "               'bootstrap': bootstrap}"
   ]
  },
  {
   "cell_type": "markdown",
   "id": "903dc392",
   "metadata": {},
   "source": [
    "Set parameters basic conditions and ranges"
   ]
  },
  {
   "cell_type": "code",
   "execution_count": 74,
   "id": "55243667",
   "metadata": {},
   "outputs": [],
   "source": [
    "from sklearn.model_selection import RandomizedSearchCV\n",
    "rfreg1 = RandomForestRegressor()\n",
    "rfreg1_random = RandomizedSearchCV(estimator=rfreg1, param_distributions=random_grid,\n",
    "               n_iter=100, cv=5, verbose=2, random_state=35, n_jobs = 8)"
   ]
  },
  {
   "cell_type": "markdown",
   "id": "a3b4a5a0",
   "metadata": {},
   "source": [
    "Random Forest Regressor was used as an instantiation object for grid points.\n",
    "Besides, random sampling method was selected. Eight parallel CPUs were used to process 100 samples of level 2 detail with a random seed number of 35 and five cross-validation."
   ]
  },
  {
   "cell_type": "code",
   "execution_count": 75,
   "id": "1851c661",
   "metadata": {},
   "outputs": [
    {
     "name": "stdout",
     "output_type": "stream",
     "text": [
      "Fitting 5 folds for each of 100 candidates, totalling 500 fits\n"
     ]
    },
    {
     "data": {
      "text/plain": [
       "RandomizedSearchCV(cv=5, estimator=RandomForestRegressor(), n_iter=100,\n",
       "                   n_jobs=8,\n",
       "                   param_distributions={'bootstrap': [True, False],\n",
       "                                        'max_depth': [10, 20, 30, 40, 50, 60,\n",
       "                                                      70, 80, 90, 100, 110,\n",
       "                                                      120],\n",
       "                                        'min_samples_leaf': [1, 3, 4],\n",
       "                                        'min_samples_split': [2, 6, 10],\n",
       "                                        'n_estimators': [30, 130, 230, 330]},\n",
       "                   random_state=35, verbose=2)"
      ]
     },
     "execution_count": 75,
     "metadata": {},
     "output_type": "execute_result"
    }
   ],
   "source": [
    "start = time.time()\n",
    "\n",
    "rfreg1_random.fit(x_train, y_train)\n",
    "\n",
    "elapsed = (time.time() - start)\n",
    "print(\"Elapsed time: \" + time.strftime(\"%H:%M:%S{}\".format(str(elapsed % 1)[2:])[:8], time.gmtime(elapsed)))"
   ]
  },
  {
   "cell_type": "markdown",
   "id": "b689e275",
   "metadata": {},
   "source": [
    "The Randomized Search callback function has a frequent downside as it takes time. The longer it takes, the more parameters and  possible values there are. "
   ]
  },
  {
   "cell_type": "code",
   "execution_count": 76,
   "id": "f6a0d6d6",
   "metadata": {},
   "outputs": [
    {
     "name": "stdout",
     "output_type": "stream",
     "text": [
      "Best Parameters:  {'n_estimators': 330, 'min_samples_split': 2, 'min_samples_leaf': 1, 'max_depth': 100, 'bootstrap': True}  \n",
      "\n"
     ]
    }
   ],
   "source": [
    "print ('Best Parameters: ', rfreg1_random.best_params_, ' \\n')"
   ]
  },
  {
   "cell_type": "markdown",
   "id": "1e895879",
   "metadata": {},
   "source": [
    "To obtain the optimal parameters."
   ]
  },
  {
   "cell_type": "code",
   "execution_count": 58,
   "id": "7fb4fd5c",
   "metadata": {},
   "outputs": [],
   "source": [
    "# Using the best parameters\n",
    "rfreg2 = RandomForestRegressor(n_estimators=330, min_samples_split=2, min_samples_leaf=1, max_depth=100, bootstrap=True)\n",
    "rfreg2.fit(x_train, y_train)\n",
    "y_pred1 = rfreg2.predict(x_test)"
   ]
  },
  {
   "cell_type": "markdown",
   "id": "5758e852",
   "metadata": {},
   "source": [
    "The new optimal parameters are being applied in the optimal random forest model to train the new model and create new prediction results."
   ]
  },
  {
   "cell_type": "code",
   "execution_count": 59,
   "id": "780a7e7b",
   "metadata": {
    "scrolled": false
   },
   "outputs": [
    {
     "name": "stdout",
     "output_type": "stream",
     "text": [
      "MAE: 1732.3\n",
      "MSE: 8034311.06\n",
      "RMSE: 2834.49\n"
     ]
    }
   ],
   "source": [
    "print('MAE:', round(metrics.mean_absolute_error(y_test, y_pred1),2))\n",
    "print('MSE:', round(metrics.mean_squared_error(y_test, y_pred1),2))\n",
    "print('RMSE:', round(np.sqrt(metrics.mean_squared_error(y_test, y_pred1)),2))"
   ]
  },
  {
   "cell_type": "markdown",
   "id": "7d3c1a60",
   "metadata": {},
   "source": [
    "MAE, MSE and RMSE values of the optimal model are obtained.\n",
    "\n",
    "As the **default Random Forest show RMSE value of 2886.09**. After hyperparameter tuning, the **tuned Random Forest** is found to have a **lower RMSE which is 2830.42**. Hence, the tuned Random Forest model would be chosen."
   ]
  },
  {
   "cell_type": "markdown",
   "id": "19954329",
   "metadata": {},
   "source": [
    "## 4.3 Variable Importance\n",
    "\n",
    "The Random Forest model was deemed to be the best model for used car price prediction where it has tuned its parameters and achieved a lower RMSE of 2830.42 after the hyperparameter tuning. In this section, Random Forest with its parameters tuned will be only focused on the important variables above the 90% cumulative importance where only the important variables would be considered. The performance of Random Forest would be assessed with the default model."
   ]
  },
  {
   "cell_type": "code",
   "execution_count": 60,
   "id": "efad3f11",
   "metadata": {},
   "outputs": [],
   "source": [
    "reg = rfreg2\n",
    "feat = usedcars_filtered.drop('SellingPrice', axis = 1)\n",
    "\n",
    "# Saving feature names for later use\n",
    "feat_list = list(feat.columns)\n",
    "# Convert to numpy array\n",
    "feat = np.array(feat)"
   ]
  },
  {
   "cell_type": "markdown",
   "id": "b8a2d6c5",
   "metadata": {},
   "source": [
    "Convert the list feat_list to ndarray array"
   ]
  },
  {
   "cell_type": "code",
   "execution_count": 61,
   "id": "8f0818b8",
   "metadata": {},
   "outputs": [
    {
     "name": "stdout",
     "output_type": "stream",
     "text": [
      "Variable: RegistrationYear     Importance: 0.4\n",
      "Variable: OdometerMileage      Importance: 0.17\n",
      "Variable: Model                Importance: 0.13\n",
      "Variable: Manufacturer         Importance: 0.06\n",
      "Variable: CylindersNumber      Importance: 0.06\n",
      "Variable: FuelType             Importance: 0.04\n",
      "Variable: DriveType            Importance: 0.03\n",
      "Variable: CarType              Importance: 0.03\n",
      "Variable: Condition            Importance: 0.02\n",
      "Variable: TransmissionType     Importance: 0.02\n",
      "Variable: PaintColor           Importance: 0.02\n",
      "Variable: TitleStatus          Importance: 0.01\n",
      "Variable: Size                 Importance: 0.01\n"
     ]
    }
   ],
   "source": [
    "importances = list(reg.feature_importances_)\n",
    "\n",
    "feat_importances = [(feature, round(importance, 2)) for feature, importance in zip(feat_list, importances)]\n",
    "\n",
    "feat_importances = sorted(feat_importances, key = lambda x: x[1], reverse = True)\n",
    "\n",
    "[print('Variable: {:20} Importance: {}'.format(*pair)) for pair in feat_importances];"
   ]
  },
  {
   "cell_type": "markdown",
   "id": "5e4c4b46",
   "metadata": {},
   "source": [
    "From the list can know that the importance of RegistrationYear is 0.4, the importance of OdometerMileage is 0.17, and the Importance of Model is 0.13. So,the RegistrationYear, OdometerMileage and the Model is importance variable"
   ]
  },
  {
   "cell_type": "code",
   "execution_count": 62,
   "id": "505ae168",
   "metadata": {},
   "outputs": [
    {
     "data": {
      "image/png": "[encoded data removed]",
      "text/plain": [
       "<Figure size 640x480 with 1 Axes>"
      ]
     },
     "metadata": {},
     "output_type": "display_data"
    }
   ],
   "source": [
    "plt.style.use('fivethirtyeight')\n",
    "\n",
    "x_values = list(range(len(importances)))\n",
    "\n",
    "plt.bar(x_values, importances, orientation = 'vertical')\n",
    "\n",
    "plt.xticks(x_values, feat_list, rotation='vertical')\n",
    "\n",
    "plt.ylabel('Importance'); plt.xlabel('Variable'); plt.title('Variable Importances');"
   ]
  },
  {
   "cell_type": "markdown",
   "id": "c7ba20f1",
   "metadata": {},
   "source": [
    "The histogram obtained through data visualization can be followed clearly and easily to observe the data results. The RegistrationYear, OdometerMileage and the Model is important variable"
   ]
  },
  {
   "cell_type": "code",
   "execution_count": 63,
   "id": "a4c5f2fe",
   "metadata": {
    "scrolled": true
   },
   "outputs": [
    {
     "data": {
      "image/png": "[encoded data removed]",
      "text/plain": [
       "<Figure size 640x480 with 1 Axes>"
      ]
     },
     "metadata": {},
     "output_type": "display_data"
    }
   ],
   "source": [
    "sorted_importances = [importance[1] for importance in feat_importances]\n",
    "sorted_feat = [importance[0] for importance in feat_importances]\n",
    "\n",
    "cumulative_importances = np.cumsum(sorted_importances)\n",
    "\n",
    "plt.plot(x_values, cumulative_importances, 'g-')\n",
    "\n",
    "plt.hlines(y = 0.90, xmin=0, xmax=len(sorted_importances), color = 'r', linestyles = 'dashed')\n",
    "\n",
    "plt.xticks(x_values, sorted_feat, rotation = 'vertical')\n",
    "\n",
    "plt.xlabel('Variable'); plt.ylabel('Cumulative Importance');\n",
    "plt.title('Cumulative Importances');"
   ]
  },
  {
   "cell_type": "code",
   "execution_count": 64,
   "id": "3059cf2f",
   "metadata": {
    "scrolled": true
   },
   "outputs": [
    {
     "name": "stdout",
     "output_type": "stream",
     "text": [
      "Features with more than 90% importance: 7\n"
     ]
    }
   ],
   "source": [
    "print('Features with more than 90% importance:', np.where(cumulative_importances > 0.90)[0][0])"
   ]
  },
  {
   "cell_type": "markdown",
   "id": "085b3d8f",
   "metadata": {},
   "source": [
    "There are 7 cumulative Importance which is DriveType - 0.03,CarType - 0.03, Condition - 0.02, TransmissionType - 0.02, PaintColor - 0.02, TitleStatus - 0.01,Size - 0.01"
   ]
  },
  {
   "cell_type": "code",
   "execution_count": 65,
   "id": "7dde683b",
   "metadata": {},
   "outputs": [],
   "source": [
    "rfreg_important = RandomForestRegressor(n_estimators=330, min_samples_split=2, min_samples_leaf=1, max_depth=100, bootstrap=True)"
   ]
  },
  {
   "cell_type": "markdown",
   "id": "24a79aa7",
   "metadata": {},
   "source": [
    "Modeling random forest regression for Cumulative Importance"
   ]
  },
  {
   "cell_type": "code",
   "execution_count": 66,
   "id": "f481a82f",
   "metadata": {},
   "outputs": [],
   "source": [
    "# Extract the most important features\n",
    "feat = usedcars_filtered.drop('SellingPrice', axis = 1)\n",
    "\n",
    "# Saving feature names for later use\n",
    "feat_list = list(feat.columns)\n",
    "# Convert to numpy array\n",
    "feat = np.array(feat)\n",
    "\n",
    "important_variables = [feat_list.index('RegistrationYear'), feat_list.index('OdometerMileage'), \n",
    "                     feat_list.index('Model'), feat_list.index('Manufacturer'),\n",
    "                     feat_list.index('CylindersNumber'), feat_list.index('FuelType')]\n",
    "train_important = x_train[:, important_variables]\n",
    "test_important = x_test[:, important_variables]"
   ]
  },
  {
   "cell_type": "markdown",
   "id": "1a72f3d9",
   "metadata": {},
   "source": [
    "Merge important variable data into a data set and divide into training sets and test sets to prepare for modeling and prediction"
   ]
  },
  {
   "cell_type": "code",
   "execution_count": 67,
   "id": "415c058b",
   "metadata": {},
   "outputs": [
    {
     "data": {
      "text/plain": [
       "RandomForestRegressor(max_depth=100, n_estimators=330)"
      ]
     },
     "execution_count": 67,
     "metadata": {},
     "output_type": "execute_result"
    }
   ],
   "source": [
    "rfreg_important.fit(train_important, y_train)"
   ]
  },
  {
   "cell_type": "code",
   "execution_count": 68,
   "id": "70d0f5fd",
   "metadata": {},
   "outputs": [],
   "source": [
    "preds = rfreg_important.predict(test_important)"
   ]
  },
  {
   "cell_type": "code",
   "execution_count": 69,
   "id": "c28fd932",
   "metadata": {},
   "outputs": [
    {
     "name": "stdout",
     "output_type": "stream",
     "text": [
      "MAE: 1572.45\n",
      "MSE: 7319051.06\n",
      "RMSE: 2705.37\n"
     ]
    }
   ],
   "source": [
    "print('MAE:', round(metrics.mean_absolute_error(y_test, preds),2))\n",
    "print('MSE:', round(metrics.mean_squared_error(y_test, preds),2))\n",
    "print('RMSE:', round(np.sqrt(metrics.mean_squared_error(y_test, preds)),2))"
   ]
  },
  {
   "cell_type": "markdown",
   "id": "2ed0e0e3",
   "metadata": {},
   "source": [
    "The value of MAE, MSE and RMSE obtained are further decreased."
   ]
  },
  {
   "attachments": {
    "download%20%281%29.png": {
     "image/png": "[encoded data removed]"
    }
   },
   "cell_type": "markdown",
   "id": "0e0a20fe",
   "metadata": {},
   "source": [
    "## 5.0 Conclusion\n",
    "\n",
    "One of the most important manufacturing industries is the used vehicle industry. Despite the fact that the used car sector was badly affected by the pandemic COVID-19 and subsequent lockdown restrictions in the last two years, it is gradually recovering. As used car values are affected by a variety of variables, selling and buying used cars can be complex and challenging. This connects to the study's initiatives, as to provide more comprehensive and precise recommendations in used car prices for both sellers and purchasers, as well as car dealers and the general public. The results are being concluded based on the following criteria to determine whether all of the study's objectives have been achieved:\n",
    "\n",
    "* To identify factors that influence the price of used cars.  <br>\n",
    "\n",
    "According to the analysis of importance among all the features in the dataset, the top five most important features(factors) that determine the used car pricing are their year of registration (0.40), reading of odometer (0.17), cars' models (0.13), cars' manufacturers (0.06) and number of cylinders,.  \n",
    "<br>\n",
    "<br>\n",
    "\n",
    "*   To analyze the used cars price trends.\n",
    "![download%20%281%29.png](attachment:download%20%281%29.png)\n",
    "\n",
    "As shown in the graph above, the used cars' price trend remain constant from 1985 to 2010, and then began to rise dramatically from 2010 to 2020. This demonstrates that cars registered prior to 2010 are likely to be regarded outdated and gain less popularity, resulting in a lower selling price of roughly $10,000. Used automobiles registered in recent years have a much higher selling price because they are likely to be newer.\n",
    "<br>\n",
    "<br>\n",
    "\n",
    "* To determine the best model to analyze and predict the price trend of used cars in the future market. <br>\n",
    "\n",
    "For modelling, a total of six (6) models were developed, namely Random Forest, Linear Regression, Lasso Regression, Ridge Regression, K-nearest neighbor and Extreme Gradient Boosting algorithms. Based on the results, Random Forest is the best prediction model out of the six that were used in this study since it has the lowest MAE (1770.08), MSE (8329492.23) and RMSE (2886.09) values.. <br>\n",
    "\n",
    "In the meanwhile, we employ the identical backdrop and model procedure as Gokce (2020, Literature Review 7) but the RMSE score is 3960.11. Indicating that our random forest model performs better. After that, we applied the hyperparameter tuning to optimize all of the parameters which resulting is RMSE of 2830.42. <br>\n",
    "\n",
    "Then we tried to change the data set for another column for analysis and prediction, and the RMSE value was reduced to 2705.37. This is considered as the best model for predicting the trend of used cars prices in the future market. \n",
    "\n",
    "<table>\n",
    "   <thead>\n",
    "      <tr>\n",
    "          <th>No.</th>\n",
    "          <th>Model</th>\n",
    "          <th>MAE</th>\n",
    "          <th>MSE</th>\n",
    "          <th>RMSE</th>\n",
    "       </tr>\n",
    "   </thead>\n",
    "   <tbody>\n",
    "      <tr>\n",
    "          <td>1</td>\n",
    "          <td>Random Forest (Default setting)</td>\n",
    "          <td> 1770.08 </td>\n",
    "          <td> 8329492.23 </td>\n",
    "          <td> 2886.09 </td>\n",
    "       </tr>\n",
    "       <tr>\n",
    "           <td>2</td>\n",
    "           <td>Random Forest (Optimal Parameter settings)</td>\n",
    "           <td>1732.3</td>\n",
    "           <td>8034311.06</td>\n",
    "           <td>2834.49</td>\n",
    "       </tr>\n",
    "       <tr>\n",
    "           <td>3</td>\n",
    "           <td>Random Forest (Important Variables Selection)</td>\n",
    "           <td>1572.45</td>\n",
    "           <td>7319051.06</td>\n",
    "           <td>2705.37</td>\n",
    "       </tr>\n",
    "    </tbody>\n",
    "\n",
    "<br> \n",
    "           \n",
    "Overall, all objectives have been achieved."
   ]
  },
  {
   "cell_type": "markdown",
   "id": "0dcc13d3",
   "metadata": {},
   "source": [
    "## References\n",
    "\n",
    "Arefin, S. E. (2021). Second Hand Price Prediction for Tesla Vehicles. arXiv preprint arXiv:2101.03788.\n",
    "\n",
    "Gajera, P., Gondaliya, A., & Kavathiya, J. (2021). Old Car Price Prediction With Machine Learning. International Research Journal of Modernization in Engineering Technology and Science, 3(03), 284-290.\n",
    "\n",
    "Gegic, E., Isakovic, B., Keco, D., Masetic, Z., & Kevric, J. (2019). Car price prediction using machine learning techniques. TEM Journal, 8(1), 113.\n",
    "\n",
    "Lessmann & Stefan. (2017). Car resale price forecasting: The impact of regression method, private information, and heterogeneity on forecast accuracy.\n",
    "\n",
    "Mordor Intelligence. Used car market size, trends, forecast 2021-26. Retrieved December 12, 2021, from https://www.mordorintelligence.com/industry-reports/global-used-car-market-growth-trends-and-forecast-2019-2024 \n",
    "\n",
    "Sameerchand Pudaruth. (2014). Predicting the price of used car using Machine Learning Techniques. International Journal of Information & Computation Technology, 4(7),  753-764.\n",
    "\n",
    "Sun, N., Bai, H., Geng, Y., & Shi, H. (2017, June). Price evaluation model in second-hand car system based on BP neural network theory. In 2017 18th IEEE/ACIS International Conference on Software Engineering, Artificial Intelligence, Networking and Parallel/Distributed Computing (SNPD) (pp. 431-436). IEEE.\n",
    "\n",
    "Tan, D. (2020, July 24). Malaysia's used car sector records over 100% growth. Paul Tan's Automotive News. Retrieved December 12, 2021, from https://paultan.org/2020/07/24/malaysias-used-car-sector-records-over-100-growth/  \n"
   ]
  },
  {
   "cell_type": "code",
   "execution_count": null,
   "id": "07d7af58",
   "metadata": {},
   "outputs": [],
   "source": []
  }
 ],
 "metadata": {
  "kernelspec": {
   "display_name": "Python 3",
   "language": "python",
   "name": "python3"
  },
  "language_info": {
   "codemirror_mode": {
    "name": "ipython",
    "version": 3
   },
   "file_extension": ".py",
   "mimetype": "text/x-python",
   "name": "python",
   "nbconvert_exporter": "python",
   "pygments_lexer": "ipython3",
   "version": "3.8.12"
  }
 },
 "nbformat": 4,
 "nbformat_minor": 5
}
